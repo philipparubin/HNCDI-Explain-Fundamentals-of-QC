{
 "cells": [
  {
   "cell_type": "markdown",
   "id": "1b84a11e",
   "metadata": {
    "tags": []
   },
   "source": [
    "# HNCDI Explain: Grover Tutorial 3"
   ]
  },
  {
   "cell_type": "markdown",
   "id": "2c7ad5b7-ba66-40ee-9e62-008698f55162",
   "metadata": {
    "tags": []
   },
   "source": [
    "This is tutorial 3 on Grover's Algorithm. This is a 5-qubit example, with varying Grover iterations. The notebook performs two Grover circuits: the first circuit with 1-iteration and the second with $k'$-iterations.\n",
    "\n",
    "The code below will do the following. We will first select the maximum number of grover iterations determined by the parameter $k$, where $k-1 = k'$. We will then select a number from a list and then create the corresponding bit-string for the good item. We will import Qiskits existing algorithm that implements Grovers algorithm. We will then run Grover's algorithm for 1-iteration and $k'$-iterations and compare the probability that the marked item was found.\n",
    "\n",
    "__Task__. In cell 2 below, modify the parameter $k$. How does this change the probability that the marked item is found?\n"
   ]
  },
  {
   "cell_type": "code",
   "execution_count": 3,
   "id": "fdca3bd5-272d-4553-8004-d96c28ab8107",
   "metadata": {
    "tags": []
   },
   "outputs": [],
   "source": [
    "# Default imports # Importing standard Qiskit libraries\n",
    "import numpy as np\n",
    "from qiskit import QuantumRegister, ClassicalRegister, QuantumCircuit, transpile, Aer, IBMQ\n",
    "from qiskit.compiler import transpile\n",
    "from qiskit.tools.jupyter import *\n",
    "from qiskit.visualization import *\n",
    "from ibm_quantum_widgets import *\n",
    "\n",
    "from qiskit import execute\n",
    "from qiskit.providers.ibmq import least_busy\n",
    "\n",
    "import random\n",
    "from qiskit.quantum_info import Statevector\n"
   ]
  },
  {
   "cell_type": "markdown",
   "id": "1e218bc7-cc30-4c80-82e8-10aab19ea332",
   "metadata": {},
   "source": [
    "Define the parameter $k$ that determines the maximum number of Grover iterations.\n",
    "\n",
    "__Task.__ In the cell below, modify the integer parameter $k$. For example, start with $k$ is $4$ and subsequently increase."
   ]
  },
  {
   "cell_type": "code",
   "execution_count": 4,
   "id": "1a436548-54cb-4b2d-bf93-c5c323ca4e35",
   "metadata": {
    "tags": []
   },
   "outputs": [
    {
     "name": "stdout",
     "output_type": "stream",
     "text": [
      "{'The maximum number of Grover iterations is': 3}\n"
     ]
    }
   ],
   "source": [
    "### Modify Parameter k here ###\n",
    "\n",
    "k = 4\n",
    "\n",
    "###\n",
    "\n",
    "print({'The maximum number of Grover iterations is': k-1})"
   ]
  },
  {
   "cell_type": "markdown",
   "id": "617cd00a-4e96-4650-9ca2-abca82d9d4ec",
   "metadata": {},
   "source": [
    "We will now step through Grover's algorithm, where we will be able to choose the marked item. First, we create a list of numbers from $0$ to $2^n - 1$, where $n$ is the number of qubits. "
   ]
  },
  {
   "cell_type": "code",
   "execution_count": 5,
   "id": "86fce80e-fd1c-41ef-97a2-ed3b1244b776",
   "metadata": {
    "tags": []
   },
   "outputs": [
    {
     "name": "stdout",
     "output_type": "stream",
     "text": [
      "[0, 1, 2, 3, 4, 5, 6, 7, 8, 9, 10, 11, 12, 13, 14, 15, 16, 17, 18, 19, 20, 21, 22, 23, 24, 25, 26, 27, 28, 29, 30, 31]\n"
     ]
    }
   ],
   "source": [
    "# number of qubits is 5\n",
    "n = 5\n",
    "myList = list(range(0, (2**n)))\n",
    "print(myList)"
   ]
  },
  {
   "cell_type": "markdown",
   "id": "b881d155-ff9b-4b00-8ada-30c044a7494b",
   "metadata": {},
   "source": [
    "From this list, choose a number that will correspond to the good marked item. We will convert this to a bit-string. \n",
    "\n",
    "Note that this cell also allows you to randomly generate the good marked item. As default, it is set to $31$, the last item on the list."
   ]
  },
  {
   "cell_type": "code",
   "execution_count": 6,
   "id": "75296c8d-2bd2-41e1-9f55-8292f782dd06",
   "metadata": {
    "tags": []
   },
   "outputs": [
    {
     "name": "stdout",
     "output_type": "stream",
     "text": [
      "{'The secret number is ': 31}\n",
      "{'And the corresponding secret string is ': '11111'}\n"
     ]
    }
   ],
   "source": [
    "# Here we can enter the good item or randomly generate it\n",
    "secret = 31\n",
    "#secret = random.randint(0, 2**n -1)  \n",
    "\n",
    "secret_string = format(secret, \"04b\")  # format the owner in bit string\n",
    "\n",
    "print({'The secret number is ': secret})\n",
    "print({'And the corresponding secret string is ': secret_string})"
   ]
  },
  {
   "cell_type": "markdown",
   "id": "594e08d3-5653-4b34-ba9b-ff40292ee42f",
   "metadata": {},
   "source": [
    "We will now create the state vector corresponding to the selected bit-string."
   ]
  },
  {
   "cell_type": "code",
   "execution_count": 7,
   "id": "f9f7c80d-5511-42b8-a489-c72067ce01d6",
   "metadata": {
    "tags": []
   },
   "outputs": [
    {
     "name": "stdout",
     "output_type": "stream",
     "text": [
      "This is the corresponding state for the marked item:\n"
     ]
    },
    {
     "data": {
      "text/latex": [
       "$$ |11111\\rangle$$"
      ],
      "text/plain": [
       "<IPython.core.display.Latex object>"
      ]
     },
     "execution_count": 7,
     "metadata": {},
     "output_type": "execute_result"
    }
   ],
   "source": [
    "# Create state vector corresponding to the selected string \n",
    "oracle = Statevector.from_label(secret_string)  \n",
    "print('This is the corresponding state for the marked item:')\n",
    "oracle.draw(output='latex')"
   ]
  },
  {
   "cell_type": "markdown",
   "id": "46b2acf2-1122-46e0-aa4d-66bcb50e4258",
   "metadata": {},
   "source": [
    "We will now import and use the existing Qiskit algorithms that perform Grover's circuit."
   ]
  },
  {
   "cell_type": "code",
   "execution_count": 8,
   "id": "2471f587-6e37-46c9-a02d-24c0145961ee",
   "metadata": {
    "tags": []
   },
   "outputs": [
    {
     "name": "stdout",
     "output_type": "stream",
     "text": [
      "{'Thew maximum number of Grover iterations is': 3}\n"
     ]
    }
   ],
   "source": [
    "from qiskit.algorithms import AmplificationProblem\n",
    "from qiskit.algorithms import Grover\n",
    "\n",
    "problem = AmplificationProblem(oracle, is_good_state=secret_string)\n",
    "\n",
    "#define several grover circuits for different no. of iterations\n",
    "grover_circuits = []\n",
    "\n",
    "print({'Thew maximum number of Grover iterations is': (k-1)})\n",
    "#Construct Grover circuits for different k\n",
    "for iteration in range(1, k):\n",
    "    grover = Grover(iterations=iteration)\n",
    "    circuit = grover.construct_circuit(problem)\n",
    "    circuit.measure_all()\n",
    "    grover_circuits.append(circuit)"
   ]
  },
  {
   "cell_type": "markdown",
   "id": "dabcc963-945d-49d4-b12e-3ca73056090f",
   "metadata": {},
   "source": [
    "We will first submit the grover circuit with 1 iteration to a simulator. "
   ]
  },
  {
   "cell_type": "code",
   "execution_count": 9,
   "id": "78e13dbf-2765-4e7e-bf83-c03030301810",
   "metadata": {
    "tags": []
   },
   "outputs": [
    {
     "name": "stdout",
     "output_type": "stream",
     "text": [
      "{'This is the Grover circuit with number of iterations =': 1}\n"
     ]
    },
    {
     "data": {
      "image/png": "[encoded data removed]",
      "text/plain": [
       "<Figure size 831.22x535.111 with 1 Axes>"
      ]
     },
     "execution_count": 9,
     "metadata": {},
     "output_type": "execute_result"
    }
   ],
   "source": [
    "# Grover's circuit with 1 iteration\n",
    "print({'This is the Grover circuit with number of iterations =': (1)})\n",
    "qc1 = grover_circuits[0]\n",
    "qc1.draw()"
   ]
  },
  {
   "cell_type": "code",
   "execution_count": 10,
   "id": "888c543c-8e0d-4270-aabd-e74c743ebe4b",
   "metadata": {
    "tags": []
   },
   "outputs": [
    {
     "name": "stdout",
     "output_type": "stream",
     "text": [
      "{'Recall the good marked item is': '11111'}\n"
     ]
    },
    {
     "data": {
      "image/png": "[encoded data removed]",
      "text/plain": [
       "<Figure size 700x500 with 1 Axes>"
      ]
     },
     "execution_count": 10,
     "metadata": {},
     "output_type": "execute_result"
    }
   ],
   "source": [
    "print({'Recall the good marked item is': secret_string})\n",
    "from qiskit import Aer, transpile\n",
    "sim = Aer.get_backend('aer_simulator')\n",
    "t_qc = transpile(qc1, sim)\n",
    "counts = sim.run(t_qc).result().get_counts()\n",
    "from qiskit.visualization import plot_histogram\n",
    "plot_histogram(counts)"
   ]
  },
  {
   "cell_type": "markdown",
   "id": "a3fe42da-eedd-4a61-8973-a0895cc6f8a2",
   "metadata": {
    "tags": []
   },
   "source": [
    "We will now submit the grover circuit with $k$ iterations to a simulator. "
   ]
  },
  {
   "cell_type": "code",
   "execution_count": 11,
   "id": "c5ee6958-4058-47e3-8908-53af69294259",
   "metadata": {
    "tags": []
   },
   "outputs": [
    {
     "name": "stdout",
     "output_type": "stream",
     "text": [
      "{'This is the Grover circuit with number of iterations =': 3}\n"
     ]
    },
    {
     "data": {
      "image/png": "[encoded data removed]",
      "text/plain": [
       "<Figure size 998.442x535.111 with 1 Axes>"
      ]
     },
     "execution_count": 11,
     "metadata": {},
     "output_type": "execute_result"
    }
   ],
   "source": [
    "# Grover's circuit with max number of iterations\n",
    "print({'This is the Grover circuit with number of iterations =': (k-1)})\n",
    "qcm = grover_circuits[k-2]\n",
    "qcm.draw()"
   ]
  },
  {
   "cell_type": "code",
   "execution_count": 12,
   "id": "6a096e81-6a2f-4c62-b4e2-5a30a654a4d0",
   "metadata": {
    "tags": []
   },
   "outputs": [
    {
     "name": "stdout",
     "output_type": "stream",
     "text": [
      "{'Recall the good marked item is': '11111'}\n"
     ]
    },
    {
     "data": {
      "image/png": "[encoded data removed]",
      "text/plain": [
       "<Figure size 700x500 with 1 Axes>"
      ]
     },
     "execution_count": 12,
     "metadata": {},
     "output_type": "execute_result"
    }
   ],
   "source": [
    "print({'Recall the good marked item is': secret_string})\n",
    "from qiskit import Aer, transpile\n",
    "sim = Aer.get_backend('aer_simulator')\n",
    "t_qc = transpile(qcm, sim)\n",
    "counts = sim.run(t_qc).result().get_counts()\n",
    "from qiskit.visualization import plot_histogram\n",
    "plot_histogram(counts)"
   ]
  },
  {
   "cell_type": "markdown",
   "id": "bf5415b2-9d17-4b25-b985-19ca4ed66f11",
   "metadata": {},
   "source": [
    "Compare this now to the Grover Circuit with 1-iteration. Has the marked item been found with high probability? How does the number of Grover circuits affect the probability that the marked good item was found? "
   ]
  },
  {
   "cell_type": "code",
   "execution_count": 14,
   "id": "bb2e0fdc-cca9-4b8c-9506-c77413e6c648",
   "metadata": {
    "tags": []
   },
   "outputs": [],
   "source": [
    "#Can compare to real quantum hardware\n",
    "# circ = qcm\n",
    "\n",
    "# from qiskit import execute\n",
    "# from qiskit.providers.ibmq import least_busy\n",
    "# provider = IBMQ.load_account() \n",
    "# device = least_busy(provider.backends(filters=lambda x: x.configuration().n_qubits >= 2 and not x.configuration().simulator and x.status().operational==True))\n",
    "# job = execute(circ, backend = device, shots =1024, optimization_level = 3)\n",
    "# from qiskit.tools.monitor import job_monitor\n",
    "# job_monitor(job, interval = 2)\n",
    "# results = job.result()\n",
    "# answer = results.get_counts(circ)\n",
    "# plot_histogram(answer)"
   ]
  }
 ],
 "metadata": {
  "kernelspec": {
   "display_name": "Python 3 (ipykernel)",
   "language": "python",
   "name": "python3"
  },
  "language_info": {
   "codemirror_mode": {
    "name": "ipython",
    "version": 3
   },
   "file_extension": ".py",
   "mimetype": "text/x-python",
   "name": "python",
   "nbconvert_exporter": "python",
   "pygments_lexer": "ipython3",
   "version": "3.10.8"
  },
  "widgets": {
   "application/vnd.jupyter.widget-state+json": {
    "state": {
     "02db94c6b7b14fb396e3162a7bbc89aa": {
      "model_module": "@jupyter-widgets/base",
      "model_module_version": "2.0.0",
      "model_name": "LayoutModel",
      "state": {
       "grid_template_areas": "\n                                       \". . . . right \"\n                                        ",
       "grid_template_columns": "20% 20% 20% 20% 20%",
       "width": "100%"
      }
     },
     "02e044d918114634b418b2e6bd68b464": {
      "model_module": "@jupyter-widgets/base",
      "model_module_version": "2.0.0",
      "model_name": "LayoutModel",
      "state": {
       "width": "145px"
      }
     },
     "09b95fa0198440668830bbf4fd9e2e11": {
      "model_module": "@jupyter-widgets/controls",
      "model_module_version": "2.0.0",
      "model_name": "ButtonModel",
      "state": {
       "button_style": "primary",
       "description": "Clear",
       "layout": "IPY_MODEL_4af58f069bed4f0b9a5ca03e1a01b915",
       "style": "IPY_MODEL_a04acbb933f14755b294b9979494c473",
       "tooltip": null
      }
     },
     "0bd475780f4043348c4d45d6ed2cdf43": {
      "model_module": "@jupyter-widgets/base",
      "model_module_version": "2.0.0",
      "model_name": "LayoutModel",
      "state": {
       "width": "95px"
      }
     },
     "12a67f5cb75c465eaa20671681d0d4dc": {
      "model_module": "@jupyter-widgets/base",
      "model_module_version": "2.0.0",
      "model_name": "LayoutModel",
      "state": {
       "width": "70px"
      }
     },
     "13447f71bc154111968b846ec222344c": {
      "model_module": "@jupyter-widgets/controls",
      "model_module_version": "2.0.0",
      "model_name": "ButtonModel",
      "state": {
       "icon": "close",
       "layout": "IPY_MODEL_81b5dfcd7ec446929847ee5e3f2fde93",
       "style": "IPY_MODEL_3e2c610a2fc04d5bbdfc2125a83b2b24",
       "tooltip": null
      }
     },
     "150b7ae2c9e64580b88bf17d456c4754": {
      "model_module": "@jupyter-widgets/controls",
      "model_module_version": "2.0.0",
      "model_name": "HTMLStyleModel",
      "state": {
       "description_width": "",
       "font_size": null,
       "text_color": null
      }
     },
     "1682a0c3a865451db6b367f05b2963a8": {
      "model_module": "@jupyter-widgets/controls",
      "model_module_version": "2.0.0",
      "model_name": "HTMLModel",
      "state": {
       "layout": "IPY_MODEL_a8d94fccf99345cba5db3b5a9ad0063c",
       "style": "IPY_MODEL_9eeb45287b664880b7910ff67106e594",
       "value": "job has successfully run"
      }
     },
     "1cf1017e8e59466ab295ac1aeb237017": {
      "model_module": "@jupyter-widgets/controls",
      "model_module_version": "2.0.0",
      "model_name": "HTMLModel",
      "state": {
       "layout": "IPY_MODEL_12a67f5cb75c465eaa20671681d0d4dc",
       "style": "IPY_MODEL_753556c7b32144bd8cd9c076a274e644",
       "value": "<h5>Queue</h5>"
      }
     },
     "226af248d2de490f90c20329b1f05644": {
      "model_module": "@jupyter-widgets/base",
      "model_module_version": "2.0.0",
      "model_name": "LayoutModel",
      "state": {
       "margin": "0px 0px 10px 0px"
      }
     },
     "2fc8779c29874e2e95bc711fd68ff211": {
      "model_module": "@jupyter-widgets/controls",
      "model_module_version": "2.0.0",
      "model_name": "HTMLStyleModel",
      "state": {
       "description_width": "",
       "font_size": null,
       "text_color": null
      }
     },
     "384c87ad025343c194c42378412f452e": {
      "model_module": "@jupyter-widgets/controls",
      "model_module_version": "2.0.0",
      "model_name": "HTMLStyleModel",
      "state": {
       "description_width": "",
       "font_size": null,
       "text_color": null
      }
     },
     "3d37420de72c4249836bdd97771fce48": {
      "model_module": "@jupyter-widgets/controls",
      "model_module_version": "2.0.0",
      "model_name": "HTMLStyleModel",
      "state": {
       "description_width": "",
       "font_size": null,
       "text_color": null
      }
     },
     "3e2c610a2fc04d5bbdfc2125a83b2b24": {
      "model_module": "@jupyter-widgets/controls",
      "model_module_version": "2.0.0",
      "model_name": "ButtonStyleModel",
      "state": {
       "button_color": "white",
       "font_family": null,
       "font_size": null,
       "font_style": null,
       "font_variant": null,
       "font_weight": null,
       "text_color": null,
       "text_decoration": null
      }
     },
     "4af58f069bed4f0b9a5ca03e1a01b915": {
      "model_module": "@jupyter-widgets/base",
      "model_module_version": "2.0.0",
      "model_name": "LayoutModel",
      "state": {
       "grid_area": "right",
       "padding": "0px 0px 0px 0px",
       "width": "70px"
      }
     },
     "4ebc0e2b4c774b5883d3e631aaef3b08": {
      "model_module": "@jupyter-widgets/controls",
      "model_module_version": "2.0.0",
      "model_name": "HTMLModel",
      "state": {
       "layout": "IPY_MODEL_c06bf5424a9f4c5dab9ac7fec96d678a",
       "style": "IPY_MODEL_150b7ae2c9e64580b88bf17d456c4754",
       "value": "-"
      }
     },
     "551b21e1f1af4fc0ad313cf422800a4c": {
      "model_module": "@jupyter-widgets/controls",
      "model_module_version": "2.0.0",
      "model_name": "HTMLModel",
      "state": {
       "layout": "IPY_MODEL_02e044d918114634b418b2e6bd68b464",
       "style": "IPY_MODEL_3d37420de72c4249836bdd97771fce48",
       "value": "<h5>Backend</h5>"
      }
     },
     "58e777beccb94117850e3ab1badb25cf": {
      "model_module": "@jupyter-widgets/controls",
      "model_module_version": "2.0.0",
      "model_name": "HTMLModel",
      "state": {
       "layout": "IPY_MODEL_6c28f79e8a094578a6e87ae5a270f58d",
       "style": "IPY_MODEL_2fc8779c29874e2e95bc711fd68ff211",
       "value": "<h5>Status</h5>"
      }
     },
     "5b460ceffb76493d8162ba794827e80c": {
      "model_module": "@jupyter-widgets/base",
      "model_module_version": "2.0.0",
      "model_name": "LayoutModel",
      "state": {
       "width": "190px"
      }
     },
     "62ab5e86b4204ebab2e9bd25085c2010": {
      "model_module": "@jupyter-widgets/controls",
      "model_module_version": "2.0.0",
      "model_name": "HTMLModel",
      "state": {
       "layout": "IPY_MODEL_e36b2b84b35e41aaa44b2cc9ecd0cc7f",
       "style": "IPY_MODEL_cc6bff2d50654620bafab2617b3e98bb",
       "value": "ibmq_quito"
      }
     },
     "679bda5205d84381876f76ee2edd4571": {
      "model_module": "@jupyter-widgets/controls",
      "model_module_version": "2.0.0",
      "model_name": "HBoxModel",
      "state": {
       "children": [
        "IPY_MODEL_951e7cc993c042f09a90ec6239c220ce",
        "IPY_MODEL_551b21e1f1af4fc0ad313cf422800a4c",
        "IPY_MODEL_58e777beccb94117850e3ab1badb25cf",
        "IPY_MODEL_1cf1017e8e59466ab295ac1aeb237017",
        "IPY_MODEL_7b2f5d8f02964f71b968edddd966b69b"
       ],
       "layout": "IPY_MODEL_cf084238e868435daac836fd518d9ceb"
      }
     },
     "6c28f79e8a094578a6e87ae5a270f58d": {
      "model_module": "@jupyter-widgets/base",
      "model_module_version": "2.0.0",
      "model_name": "LayoutModel",
      "state": {
       "width": "95px"
      }
     },
     "6f28cc144cf74cd6b219b87a758425cb": {
      "model_module": "@jupyter-widgets/controls",
      "model_module_version": "2.0.0",
      "model_name": "HTMLStyleModel",
      "state": {
       "description_width": "",
       "font_size": null,
       "text_color": null
      }
     },
     "753556c7b32144bd8cd9c076a274e644": {
      "model_module": "@jupyter-widgets/controls",
      "model_module_version": "2.0.0",
      "model_name": "HTMLStyleModel",
      "state": {
       "description_width": "",
       "font_size": null,
       "text_color": null
      }
     },
     "7b2f5d8f02964f71b968edddd966b69b": {
      "model_module": "@jupyter-widgets/controls",
      "model_module_version": "2.0.0",
      "model_name": "HTMLModel",
      "state": {
       "layout": "IPY_MODEL_91378a63949f488a99075f2cc2a6b5be",
       "style": "IPY_MODEL_384c87ad025343c194c42378412f452e",
       "value": "<h5>Message</h5>"
      }
     },
     "81b5dfcd7ec446929847ee5e3f2fde93": {
      "model_module": "@jupyter-widgets/base",
      "model_module_version": "2.0.0",
      "model_name": "LayoutModel",
      "state": {
       "margin": "0px 5px 0px 0px",
       "width": "32px"
      }
     },
     "8e46b83b62cf4ef7abd69eeaaeaedea7": {
      "model_module": "@jupyter-widgets/controls",
      "model_module_version": "2.0.0",
      "model_name": "HTMLStyleModel",
      "state": {
       "description_width": "",
       "font_size": null,
       "text_color": null
      }
     },
     "91378a63949f488a99075f2cc2a6b5be": {
      "model_module": "@jupyter-widgets/base",
      "model_module_version": "2.0.0",
      "model_name": "LayoutModel",
      "state": {}
     },
     "951e7cc993c042f09a90ec6239c220ce": {
      "model_module": "@jupyter-widgets/controls",
      "model_module_version": "2.0.0",
      "model_name": "HTMLModel",
      "state": {
       "layout": "IPY_MODEL_5b460ceffb76493d8162ba794827e80c",
       "style": "IPY_MODEL_ccf113772a1744af93cf253dbcad4321",
       "value": "<h5>Job ID</h5>"
      }
     },
     "9b40b81b9e99480897c826ea94c6f49b": {
      "model_module": "@jupyter-widgets/base",
      "model_module_version": "2.0.0",
      "model_name": "LayoutModel",
      "state": {
       "width": "190px"
      }
     },
     "9eeb45287b664880b7910ff67106e594": {
      "model_module": "@jupyter-widgets/controls",
      "model_module_version": "2.0.0",
      "model_name": "HTMLStyleModel",
      "state": {
       "description_width": "",
       "font_size": null,
       "text_color": null
      }
     },
     "a04acbb933f14755b294b9979494c473": {
      "model_module": "@jupyter-widgets/controls",
      "model_module_version": "2.0.0",
      "model_name": "ButtonStyleModel",
      "state": {
       "font_family": null,
       "font_size": null,
       "font_style": null,
       "font_variant": null,
       "font_weight": null,
       "text_color": null,
       "text_decoration": null
      }
     },
     "a8d94fccf99345cba5db3b5a9ad0063c": {
      "model_module": "@jupyter-widgets/base",
      "model_module_version": "2.0.0",
      "model_name": "LayoutModel",
      "state": {}
     },
     "b5b598bf0be6453aa69c8b3bbc1e37b3": {
      "model_module": "@jupyter-widgets/base",
      "model_module_version": "2.0.0",
      "model_name": "LayoutModel",
      "state": {
       "max_width": "700px",
       "min_width": "700px"
      }
     },
     "b8b4eb304a804b66a9ce55b16e563462": {
      "model_module": "@jupyter-widgets/controls",
      "model_module_version": "2.0.0",
      "model_name": "HTMLModel",
      "state": {
       "layout": "IPY_MODEL_9b40b81b9e99480897c826ea94c6f49b",
       "style": "IPY_MODEL_8e46b83b62cf4ef7abd69eeaaeaedea7",
       "value": "cicv7hgk82m1od8t9oeg"
      }
     },
     "c06bf5424a9f4c5dab9ac7fec96d678a": {
      "model_module": "@jupyter-widgets/base",
      "model_module_version": "2.0.0",
      "model_name": "LayoutModel",
      "state": {
       "width": "70px"
      }
     },
     "cc6bff2d50654620bafab2617b3e98bb": {
      "model_module": "@jupyter-widgets/controls",
      "model_module_version": "2.0.0",
      "model_name": "HTMLStyleModel",
      "state": {
       "description_width": "",
       "font_size": null,
       "text_color": null
      }
     },
     "ccf113772a1744af93cf253dbcad4321": {
      "model_module": "@jupyter-widgets/controls",
      "model_module_version": "2.0.0",
      "model_name": "HTMLStyleModel",
      "state": {
       "description_width": "",
       "font_size": null,
       "text_color": null
      }
     },
     "cf084238e868435daac836fd518d9ceb": {
      "model_module": "@jupyter-widgets/base",
      "model_module_version": "2.0.0",
      "model_name": "LayoutModel",
      "state": {
       "margin": "0px 0px 0px 37px",
       "width": "600px"
      }
     },
     "d4cc1388ae5a431ba206494130d7b24c": {
      "model_module": "@jupyter-widgets/controls",
      "model_module_version": "2.0.0",
      "model_name": "HTMLModel",
      "state": {
       "layout": "IPY_MODEL_0bd475780f4043348c4d45d6ed2cdf43",
       "style": "IPY_MODEL_f38e224955574a50afbb978f8e937ebf",
       "value": "<font style='color:#34BC6E'>DONE</font>"
      }
     },
     "d6f828f5726a46cc89edf3cb5bdaec4f": {
      "model_module": "@jupyter-widgets/controls",
      "model_module_version": "2.0.0",
      "model_name": "HTMLModel",
      "state": {
       "layout": "IPY_MODEL_226af248d2de490f90c20329b1f05644",
       "style": "IPY_MODEL_6f28cc144cf74cd6b219b87a758425cb",
       "value": "<p style='font-family: IBM Plex Sans, Arial, Helvetica, sans-serif; font-size: 20px; font-weight: medium;'>Circuit Properties</p>"
      }
     },
     "e36b2b84b35e41aaa44b2cc9ecd0cc7f": {
      "model_module": "@jupyter-widgets/base",
      "model_module_version": "2.0.0",
      "model_name": "LayoutModel",
      "state": {
       "width": "145px"
      }
     },
     "ef2f226af3c94f288f6e941ae9703122": {
      "model_module": "@jupyter-widgets/controls",
      "model_module_version": "2.0.0",
      "model_name": "GridBoxModel",
      "state": {
       "children": [
        "IPY_MODEL_09b95fa0198440668830bbf4fd9e2e11"
       ],
       "layout": "IPY_MODEL_02db94c6b7b14fb396e3162a7bbc89aa"
      }
     },
     "f38e224955574a50afbb978f8e937ebf": {
      "model_module": "@jupyter-widgets/controls",
      "model_module_version": "2.0.0",
      "model_name": "HTMLStyleModel",
      "state": {
       "description_width": "",
       "font_size": null,
       "text_color": null
      }
     },
     "f39a6faf6f574860b52fba755c5f1f04": {
      "model_module": "@jupyter-widgets/controls",
      "model_module_version": "2.0.0",
      "model_name": "HBoxModel",
      "state": {
       "children": [
        "IPY_MODEL_13447f71bc154111968b846ec222344c",
        "IPY_MODEL_b8b4eb304a804b66a9ce55b16e563462",
        "IPY_MODEL_62ab5e86b4204ebab2e9bd25085c2010",
        "IPY_MODEL_d4cc1388ae5a431ba206494130d7b24c",
        "IPY_MODEL_4ebc0e2b4c774b5883d3e631aaef3b08",
        "IPY_MODEL_1682a0c3a865451db6b367f05b2963a8"
       ],
       "layout": "IPY_MODEL_b5b598bf0be6453aa69c8b3bbc1e37b3"
      }
     }
    },
    "version_major": 2,
    "version_minor": 0
   }
  }
 },
 "nbformat": 4,
 "nbformat_minor": 5
}
