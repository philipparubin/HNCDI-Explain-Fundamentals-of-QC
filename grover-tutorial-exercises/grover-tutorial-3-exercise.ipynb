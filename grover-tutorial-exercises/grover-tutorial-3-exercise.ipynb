{
 "cells": [
  {
   "cell_type": "markdown",
   "id": "1b84a11e",
   "metadata": {
    "tags": []
   },
   "source": [
    "# HNCDI Explain: Grover Tutorial 3"
   ]
  },
  {
   "cell_type": "markdown",
   "id": "1e179bd7",
   "metadata": {},
   "source": [
    "### Installing qiskit algorithms module\n",
    "\n",
    "For this tutorial, we will be installing an already implemented Grover's algorithm contained in the qiskit algorithms module"
   ]
  },
  {
   "cell_type": "code",
   "execution_count": null,
   "id": "56c5e2c2",
   "metadata": {},
   "outputs": [],
   "source": [
    "%pip install 'qiskit[visualization]'==1.4.2\n",
    "%pip install qiskit-ibm-runtime\n",
    "%pip install qiskit-aer\n",
    "%pip install qiskit-algorithms"
   ]
  },
  {
   "cell_type": "markdown",
   "id": "2c7ad5b7-ba66-40ee-9e62-008698f55162",
   "metadata": {
    "tags": []
   },
   "source": [
    "This is tutorial 3 on Grover's Algorithm. This is a 5-qubit example, with varying Grover iterations. The notebook performs two Grover circuits: the first circuit with 1-iteration and the second with $k'$-iterations.\n",
    "\n",
    "The code below will do the following. We will first select the maximum number of grover iterations determined by the parameter $k$, where $k-1 = k'$. We will then select a number from a list and then create the corresponding bit-string for the good item. We will import Qiskits existing algorithm that implements Grovers algorithm. We will then run Grover's algorithm for 1-iteration and $k'$-iterations and compare the probability that the marked item was found.\n",
    "\n",
    "__Task__. In cell 2 below, modify the parameter $k$. How does this change the probability that the marked item is found?\n"
   ]
  },
  {
   "cell_type": "code",
   "execution_count": null,
   "id": "fdca3bd5-272d-4553-8004-d96c28ab8107",
   "metadata": {
    "tags": []
   },
   "outputs": [],
   "source": [
    "import numpy as np\n",
    "from qiskit.visualization import *\n",
    "from qiskit_aer import AerSimulator\n",
    "from qiskit.compiler import transpile\n",
    "from qiskit.quantum_info import Statevector\n",
    "from qiskit_aer.primitives import SamplerV2\n",
    "from qiskit_ibm_runtime import QiskitRuntimeService\n",
    "from qiskit_ibm_runtime import SamplerV2 as real_sampler\n",
    "from qiskit import QuantumRegister, ClassicalRegister, QuantumCircuit, transpile"
   ]
  },
  {
   "cell_type": "markdown",
   "id": "544de96c",
   "metadata": {},
   "source": [
    "### Authenticate with IBM quantum\n",
    "\n",
    "You will require the API token specified in the IBM quantum platform to ensure you can execute your code on a real quantum computer."
   ]
  },
  {
   "cell_type": "code",
   "execution_count": null,
   "id": "6401860b",
   "metadata": {},
   "outputs": [],
   "source": [
    "my_token = \"<Paste your token here>\"\n",
    "\n",
    "service = QiskitRuntimeService(channel=\"ibm_quantum\", token=my_token)"
   ]
  },
  {
   "cell_type": "markdown",
   "id": "1e218bc7-cc30-4c80-82e8-10aab19ea332",
   "metadata": {},
   "source": [
    "Define the parameter $k$ that determines the maximum number of Grover iterations.\n",
    "\n",
    "__Task.__ In the cell below, modify the integer parameter $k$. For example, start with $k$ is $4$ and subsequently increase."
   ]
  },
  {
   "cell_type": "code",
   "execution_count": null,
   "id": "1a436548-54cb-4b2d-bf93-c5c323ca4e35",
   "metadata": {
    "tags": []
   },
   "outputs": [],
   "source": [
    "### Modify Parameter k here ###\n",
    "\n",
    "k = 4\n",
    "\n",
    "###\n",
    "\n",
    "print({'The maximum number of Grover iterations is': k-1})"
   ]
  },
  {
   "cell_type": "markdown",
   "id": "617cd00a-4e96-4650-9ca2-abca82d9d4ec",
   "metadata": {},
   "source": [
    "We will now step through Grover's algorithm, where we will be able to choose the marked item. First, we create a list of numbers from $0$ to $2^n - 1$, where $n$ is the number of qubits. "
   ]
  },
  {
   "cell_type": "code",
   "execution_count": null,
   "id": "86fce80e-fd1c-41ef-97a2-ed3b1244b776",
   "metadata": {
    "tags": []
   },
   "outputs": [],
   "source": [
    "# number of qubits is 5\n",
    "n = 5\n",
    "myList = list(range(0, (2**n)))\n",
    "print(myList)"
   ]
  },
  {
   "cell_type": "markdown",
   "id": "b881d155-ff9b-4b00-8ada-30c044a7494b",
   "metadata": {},
   "source": [
    "From this list, choose a number that will correspond to the good marked item. We will convert this to a bit-string. \n",
    "\n",
    "Note that this cell also allows you to randomly generate the good marked item. As default, it is set to $31$, the last item on the list."
   ]
  },
  {
   "cell_type": "code",
   "execution_count": null,
   "id": "75296c8d-2bd2-41e1-9f55-8292f782dd06",
   "metadata": {
    "tags": []
   },
   "outputs": [],
   "source": [
    "# Here we can enter the good item or randomly generate it\n",
    "secret = 31\n",
    "#secret = random.randint(0, 2**n -1)  \n",
    "\n",
    "secret_string = format(secret, \"04b\")  # format the owner in bit string\n",
    "\n",
    "print({'The secret number is ': secret})\n",
    "print({'And the corresponding secret string is ': secret_string})"
   ]
  },
  {
   "cell_type": "markdown",
   "id": "594e08d3-5653-4b34-ba9b-ff40292ee42f",
   "metadata": {},
   "source": [
    "We will now create the state vector corresponding to the selected bit-string."
   ]
  },
  {
   "cell_type": "code",
   "execution_count": null,
   "id": "f9f7c80d-5511-42b8-a489-c72067ce01d6",
   "metadata": {
    "tags": []
   },
   "outputs": [],
   "source": [
    "# Create state vector corresponding to the selected string \n",
    "oracle = Statevector.from_label(secret_string)  \n",
    "print('This is the corresponding state for the marked item:')\n",
    "oracle.draw(output='latex')"
   ]
  },
  {
   "cell_type": "markdown",
   "id": "46b2acf2-1122-46e0-aa4d-66bcb50e4258",
   "metadata": {},
   "source": [
    "We will now import and use the existing Qiskit algorithms that perform Grover's circuit."
   ]
  },
  {
   "cell_type": "code",
   "execution_count": null,
   "id": "2471f587-6e37-46c9-a02d-24c0145961ee",
   "metadata": {
    "tags": []
   },
   "outputs": [],
   "source": [
    "# from qiskit.algorithms import AmplificationProblem\n",
    "# from qiskit.algorithms import Grover\n",
    "from qiskit_algorithms.amplitude_amplifiers.amplification_problem import AmplificationProblem\n",
    "from qiskit_algorithms.amplitude_amplifiers.grover import Grover\n",
    "\n",
    "\n",
    "problem = AmplificationProblem(oracle, is_good_state=secret_string)\n",
    "\n",
    "#define several grover circuits for different no. of iterations\n",
    "grover_circuits = []\n",
    "\n",
    "print({'Thew maximum number of Grover iterations is': (k-1)})\n",
    "#Construct Grover circuits for different k\n",
    "for iteration in range(1, k):\n",
    "    grover = Grover(iterations=iteration)\n",
    "    circuit = grover.construct_circuit(problem)\n",
    "    circuit.measure_all()\n",
    "    grover_circuits.append(circuit)"
   ]
  },
  {
   "cell_type": "markdown",
   "id": "dabcc963-945d-49d4-b12e-3ca73056090f",
   "metadata": {},
   "source": [
    "We will first submit the grover circuit with 1 iteration to a simulator. "
   ]
  },
  {
   "cell_type": "code",
   "execution_count": null,
   "id": "78e13dbf-2765-4e7e-bf83-c03030301810",
   "metadata": {
    "tags": []
   },
   "outputs": [],
   "source": [
    "# Grover's circuit with 1 iteration\n",
    "print({'This is the Grover circuit with number of iterations =': (1)})\n",
    "qc1 = grover_circuits[0]\n",
    "qc1.draw()"
   ]
  },
  {
   "cell_type": "code",
   "execution_count": null,
   "id": "888c543c-8e0d-4270-aabd-e74c743ebe4b",
   "metadata": {},
   "outputs": [],
   "source": [
    "print({'Recall the good marked item is': secret_string})\n",
    "\n",
    "sim = AerSimulator()\n",
    "sampler = SamplerV2()\n",
    "t_circ = transpile(qc1, sim, optimization_level=3)\n",
    "results = sampler.run([t_circ], shots=1024).result()\n",
    "answer = results[0].data.meas.get_counts()\n",
    "plot_histogram(answer)"
   ]
  },
  {
   "cell_type": "markdown",
   "id": "a3fe42da-eedd-4a61-8973-a0895cc6f8a2",
   "metadata": {
    "tags": []
   },
   "source": [
    "We will now submit the grover circuit with $k$ iterations to a simulator. "
   ]
  },
  {
   "cell_type": "code",
   "execution_count": null,
   "id": "c5ee6958-4058-47e3-8908-53af69294259",
   "metadata": {
    "tags": []
   },
   "outputs": [],
   "source": [
    "# Grover's circuit with max number of iterations\n",
    "print({'This is the Grover circuit with number of iterations =': (k-1)})\n",
    "qcm = grover_circuits[k-2]\n",
    "qcm.draw()"
   ]
  },
  {
   "cell_type": "code",
   "execution_count": null,
   "id": "6a096e81-6a2f-4c62-b4e2-5a30a654a4d0",
   "metadata": {
    "tags": []
   },
   "outputs": [],
   "source": [
    "print({'Recall the good marked item is': secret_string})\n",
    "\n",
    "sim = AerSimulator()\n",
    "sampler = SamplerV2()\n",
    "t_circ = transpile(qcm, sim, optimization_level=3)\n",
    "results = sampler.run([t_circ], shots=1024).result()\n",
    "answer = results[0].data.meas.get_counts()\n",
    "plot_histogram(answer)"
   ]
  },
  {
   "cell_type": "markdown",
   "id": "bf5415b2-9d17-4b25-b985-19ca4ed66f11",
   "metadata": {},
   "source": [
    "Compare this now to the Grover Circuit with 1-iteration. Has the marked item been found with high probability? How does the number of Grover circuits affect the probability that the marked good item was found? "
   ]
  },
  {
   "cell_type": "code",
   "execution_count": null,
   "id": "bb2e0fdc-cca9-4b8c-9506-c77413e6c648",
   "metadata": {
    "tags": []
   },
   "outputs": [],
   "source": [
    "backend = service.least_busy(operational=True, simulator=False)\n",
    "sampler = real_sampler(backend)\n",
    "t_circ = transpile(qcm, backend, optimization_level=3)\n",
    "job = sampler.run([t_circ], shots=1024)\n",
    "results = job.result()\n",
    "answer = results[0].data.meas.get_counts()\n",
    "plot_histogram(answer)"
   ]
  }
 ],
 "metadata": {
  "kernelspec": {
   "display_name": "Python 3 (ipykernel)",
   "language": "python",
   "name": "python3"
  },
  "language_info": {
   "codemirror_mode": {
    "name": "ipython",
    "version": 3
   },
   "file_extension": ".py",
   "mimetype": "text/x-python",
   "name": "python",
   "nbconvert_exporter": "python",
   "pygments_lexer": "ipython3",
   "version": "3.11.6"
  },
  "widgets": {
   "application/vnd.jupyter.widget-state+json": {
    "state": {},
    "version_major": 2,
    "version_minor": 0
   }
  }
 },
 "nbformat": 4,
 "nbformat_minor": 5
}
