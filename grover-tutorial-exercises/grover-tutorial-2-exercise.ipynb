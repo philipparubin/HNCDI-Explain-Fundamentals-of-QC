{
 "cells": [
  {
   "cell_type": "markdown",
   "id": "1b84a11e",
   "metadata": {
    "tags": []
   },
   "source": [
    "# HNCDI Explain:  Grover Tutorial 2"
   ]
  },
  {
   "cell_type": "markdown",
   "id": "f79f242b",
   "metadata": {},
   "source": [
    "### Install the qiskit library in the colab environment\n",
    "\n",
    "Please run the below cell to ensure the notebook has qiskit installed."
   ]
  },
  {
   "cell_type": "code",
   "execution_count": null,
   "id": "ed85b1cd",
   "metadata": {},
   "outputs": [],
   "source": [
    "# Install the qiskit library\n",
    "%pip install 'qiskit[visualization]'\n",
    "%pip install qiskit-ibm-runtime\n",
    "%pip install qiskit-aer"
   ]
  },
  {
   "cell_type": "markdown",
   "id": "2c7ad5b7-ba66-40ee-9e62-008698f55162",
   "metadata": {
    "tags": []
   },
   "source": [
    "This is tutorial 3 on Grover's Algorithm. This is a 3-qubit example, with 1-Grover iteration. \n",
    "\n",
    "__Task__. Run through the provided notebook, which steps through the stages of Grover's algorithm. Notice that the good item $x_m=111$ still occurs with high probability, but the other strings now have non-zero probability."
   ]
  },
  {
   "cell_type": "code",
   "execution_count": null,
   "id": "fdca3bd5-272d-4553-8004-d96c28ab8107",
   "metadata": {
    "tags": []
   },
   "outputs": [],
   "source": [
    "import numpy as np\n",
    "from qiskit.visualization import *\n",
    "from qiskit_aer import AerSimulator\n",
    "from qiskit.compiler import transpile\n",
    "from qiskit_aer.primitives import SamplerV2\n",
    "from qiskit_ibm_runtime import QiskitRuntimeService\n",
    "from qiskit_ibm_runtime import SamplerV2 as real_sampler\n",
    "from qiskit import QuantumRegister, ClassicalRegister, QuantumCircuit, transpile"
   ]
  },
  {
   "cell_type": "markdown",
   "id": "ee05bb7a",
   "metadata": {},
   "source": [
    "### Authenticate with IBM quantum\n",
    "\n",
    "You will require the API token specified in the IBM quantum platform to ensure you can execute your code on a real quantum computer."
   ]
  },
  {
   "cell_type": "code",
   "execution_count": null,
   "id": "c4bf6317",
   "metadata": {},
   "outputs": [],
   "source": [
    "my_token = \"<Paste your token here>\"\n",
    "\n",
    "service = QiskitRuntimeService(channel=\"ibm_quantum\", token=my_token)"
   ]
  },
  {
   "cell_type": "markdown",
   "id": "1e218bc7-cc30-4c80-82e8-10aab19ea332",
   "metadata": {},
   "source": [
    "As in tutorial 1, we will now step through Grover's algorithm but for 3-qubits. \n",
    "\n",
    "__Step 1__: Create the superposition state $|s \\rangle$."
   ]
  },
  {
   "cell_type": "code",
   "execution_count": null,
   "id": "f9f7c80d-5511-42b8-a489-c72067ce01d6",
   "metadata": {
    "tags": []
   },
   "outputs": [],
   "source": [
    "# Define no. of qubits to be n = 3 and create a quantum circuit called \"circ\" with an n-qubit register.\n",
    "n = 3\n",
    "circ = QuantumCircuit(n)\n",
    "\n",
    "#Apply a Hadamard gate to each qubit in the circuit.\n",
    "for i in range(n):\n",
    "    circ.h(i)\n",
    "    \n",
    "circ.barrier()\n",
    "circ.draw('mpl') "
   ]
  },
  {
   "cell_type": "markdown",
   "id": "46b2acf2-1122-46e0-aa4d-66bcb50e4258",
   "metadata": {},
   "source": [
    "__Step 2__. Here we create the circuit that implements the oracle that marks the good item $111$. The circuit that implements this is the $CCZ$ gate. "
   ]
  },
  {
   "cell_type": "code",
   "execution_count": null,
   "id": "12daee04-6870-40ea-a84c-7b3ed33250e5",
   "metadata": {
    "tags": []
   },
   "outputs": [],
   "source": [
    "qc = QuantumCircuit(3)\n",
    "\n",
    "## mark item 111\n",
    "qc.h([2])\n",
    "qc.ccx(0,1,2)\n",
    "qc.h([2])\n",
    "qc.draw('mpl')"
   ]
  },
  {
   "cell_type": "code",
   "execution_count": null,
   "id": "34b76b3d-fc41-41d5-b290-1081432fddf5",
   "metadata": {
    "tags": []
   },
   "outputs": [],
   "source": [
    "oracle = qc.to_gate()\n",
    "oracle.name = \"$U_f$\"\n",
    "circ.append(oracle, [0,1,2])\n",
    "circ.draw('mpl') "
   ]
  },
  {
   "cell_type": "markdown",
   "id": "94349c8e-6289-4c8a-9c87-790b24b868a3",
   "metadata": {},
   "source": [
    "__Step 3__. Apply the Grover Diffusion operator."
   ]
  },
  {
   "cell_type": "code",
   "execution_count": null,
   "id": "e3c6ca29-d6bc-4fe3-8457-9c95c5b86c99",
   "metadata": {
    "tags": []
   },
   "outputs": [],
   "source": [
    "# This is code provides a general implementation of Grover's Diffusion operator, based on https://learn.qiskit.org/course/ch-algorithms/grovers-algorithm.\n",
    "def diffuser(nqubits):\n",
    "    qc = QuantumCircuit(nqubits)\n",
    "    # Apply transformation |s> -> |00..0> (H-gates)\n",
    "    for qubit in range(nqubits):\n",
    "        qc.h(qubit)\n",
    "    # Apply transformation |00..0> -> |11..1> (X-gates)\n",
    "    for qubit in range(nqubits):\n",
    "        qc.x(qubit)\n",
    "    # Do multi-controlled-Z gate\n",
    "    qc.h(nqubits-1)\n",
    "    qc.mcx(list(range(nqubits-1)), nqubits-1)  # multi-controlled-toffoli\n",
    "    qc.h(nqubits-1)\n",
    "    # Apply transformation |11..1> -> |00..0>\n",
    "    for qubit in range(nqubits):\n",
    "        qc.x(qubit)\n",
    "    # Apply transformation |00..0> -> |s>\n",
    "    for qubit in range(nqubits):\n",
    "        qc.h(qubit)\n",
    "    # We will return the diffuser as a gate\n",
    "    U_s = qc.to_gate()\n",
    "    U_s.name = \"$U_D$\"\n",
    "    return U_s"
   ]
  },
  {
   "cell_type": "code",
   "execution_count": null,
   "id": "38af45e2-4178-44f9-9f5a-e54988c64b06",
   "metadata": {
    "tags": []
   },
   "outputs": [],
   "source": [
    "circ.barrier()\n",
    "circ.append(diffuser(n), [0,1,2])\n",
    "circ.draw()\n",
    "circ.measure_all()\n",
    "print({'This is the final Grover Circuit with 1-iteration.'})\n",
    "circ.draw('mpl') "
   ]
  },
  {
   "cell_type": "markdown",
   "id": "44aeeafa-025c-4e6f-adaa-3237020869be",
   "metadata": {},
   "source": [
    "__Step 4__: We will now submit the quantum circuit to A) a simulator and B) a real quantum computer. \n",
    "\n",
    "Notice that the marked item $x_m = 111$ was identified with high probability with only one Grover-iteration, however unlike tutorial 1 the other strings now have non-zero probability."
   ]
  },
  {
   "cell_type": "code",
   "execution_count": null,
   "id": "413a6808-e249-4749-ad5d-d459a47acc58",
   "metadata": {
    "tags": []
   },
   "outputs": [],
   "source": [
    "# OPTION 1: RUN ON QUANTUM SIMULATOR\n",
    "sim = AerSimulator()\n",
    "sampler = SamplerV2()\n",
    "t_circ = transpile(circ, sim, optimization_level=3)\n",
    "results = sampler.run([t_circ], shots=1024).result()\n",
    "answer = results[0].data.meas.get_counts()\n",
    "plot_histogram(answer)"
   ]
  },
  {
   "cell_type": "code",
   "execution_count": null,
   "id": "7b7042fe-1ff6-4313-8bf8-099f70730c71",
   "metadata": {
    "tags": []
   },
   "outputs": [],
   "source": [
    "# OPTION 2: RUN ON QUANTUM HARDWARE\n",
    "\n",
    "backend = service.least_busy(operational=True, simulator=False)\n",
    "sampler = real_sampler(backend)\n",
    "t_circ = transpile(circ, backend, optimization_level=3)\n",
    "job = sampler.run([t_circ], shots=1024)\n",
    "results = job.result()\n",
    "answer = results[0].data.meas.get_counts()\n",
    "plot_histogram(answer)"
   ]
  }
 ],
 "metadata": {
  "kernelspec": {
   "display_name": "Python 3 (ipykernel)",
   "language": "python",
   "name": "python3"
  },
  "language_info": {
   "codemirror_mode": {
    "name": "ipython",
    "version": 3
   },
   "file_extension": ".py",
   "mimetype": "text/x-python",
   "name": "python",
   "nbconvert_exporter": "python",
   "pygments_lexer": "ipython3",
   "version": "3.11.6"
  },
  "widgets": {
   "application/vnd.jupyter.widget-state+json": {
    "state": {},
    "version_major": 2,
    "version_minor": 0
   }
  }
 },
 "nbformat": 4,
 "nbformat_minor": 5
}
