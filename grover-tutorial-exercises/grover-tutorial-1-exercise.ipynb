{
 "cells": [
  {
   "cell_type": "markdown",
   "id": "1b84a11e",
   "metadata": {
    "tags": []
   },
   "source": [
    "# HNCDI Explain:  Grover Tutorial 1"
   ]
  },
  {
   "cell_type": "markdown",
   "id": "88246b66",
   "metadata": {},
   "source": [
    "### Install the qiskit library in the colab environment\n",
    "\n",
    "Please run the below cell to ensure the notebook has qiskit installed."
   ]
  },
  {
   "cell_type": "code",
   "execution_count": 2,
   "id": "1c1a85ee",
   "metadata": {},
   "outputs": [
    {
     "name": "stdout",
     "output_type": "stream",
     "text": [
      "Requirement already satisfied: qiskit[visualization] in /Users/danuk.udagama/projects/HNCI_explain/hncdi-explain-3-tutorials/.venv/lib/python3.11/site-packages (1.1.0)\n",
      "Requirement already satisfied: rustworkx>=0.14.0 in /Users/danuk.udagama/projects/HNCI_explain/hncdi-explain-3-tutorials/.venv/lib/python3.11/site-packages (from qiskit[visualization]) (0.14.2)\n",
      "Requirement already satisfied: numpy<3,>=1.17 in /Users/danuk.udagama/projects/HNCI_explain/hncdi-explain-3-tutorials/.venv/lib/python3.11/site-packages (from qiskit[visualization]) (1.26.4)\n",
      "Requirement already satisfied: scipy>=1.5 in /Users/danuk.udagama/projects/HNCI_explain/hncdi-explain-3-tutorials/.venv/lib/python3.11/site-packages (from qiskit[visualization]) (1.13.1)\n",
      "Requirement already satisfied: sympy>=1.3 in /Users/danuk.udagama/projects/HNCI_explain/hncdi-explain-3-tutorials/.venv/lib/python3.11/site-packages (from qiskit[visualization]) (1.12.1)\n",
      "Requirement already satisfied: dill>=0.3 in /Users/danuk.udagama/projects/HNCI_explain/hncdi-explain-3-tutorials/.venv/lib/python3.11/site-packages (from qiskit[visualization]) (0.3.8)\n",
      "Requirement already satisfied: python-dateutil>=2.8.0 in /Users/danuk.udagama/projects/HNCI_explain/hncdi-explain-3-tutorials/.venv/lib/python3.11/site-packages (from qiskit[visualization]) (2.9.0.post0)\n",
      "Requirement already satisfied: stevedore>=3.0.0 in /Users/danuk.udagama/projects/HNCI_explain/hncdi-explain-3-tutorials/.venv/lib/python3.11/site-packages (from qiskit[visualization]) (5.2.0)\n",
      "Requirement already satisfied: typing-extensions in /Users/danuk.udagama/projects/HNCI_explain/hncdi-explain-3-tutorials/.venv/lib/python3.11/site-packages (from qiskit[visualization]) (4.12.0)\n",
      "Requirement already satisfied: symengine>=0.11 in /Users/danuk.udagama/projects/HNCI_explain/hncdi-explain-3-tutorials/.venv/lib/python3.11/site-packages (from qiskit[visualization]) (0.11.0)\n",
      "Collecting matplotlib>=3.3 (from qiskit[visualization])\n",
      "  Using cached matplotlib-3.9.0-cp311-cp311-macosx_11_0_arm64.whl.metadata (11 kB)\n",
      "Collecting pydot (from qiskit[visualization])\n",
      "  Using cached pydot-2.0.0-py3-none-any.whl.metadata (9.6 kB)\n",
      "Collecting Pillow>=4.2.1 (from qiskit[visualization])\n",
      "  Using cached pillow-10.3.0-cp311-cp311-macosx_11_0_arm64.whl.metadata (9.2 kB)\n",
      "Collecting pylatexenc>=1.4 (from qiskit[visualization])\n",
      "  Using cached pylatexenc-2.10-py3-none-any.whl\n",
      "Collecting seaborn>=0.9.0 (from qiskit[visualization])\n",
      "  Using cached seaborn-0.13.2-py3-none-any.whl.metadata (5.4 kB)\n",
      "Collecting contourpy>=1.0.1 (from matplotlib>=3.3->qiskit[visualization])\n",
      "  Using cached contourpy-1.2.1-cp311-cp311-macosx_11_0_arm64.whl.metadata (5.8 kB)\n",
      "Collecting cycler>=0.10 (from matplotlib>=3.3->qiskit[visualization])\n",
      "  Using cached cycler-0.12.1-py3-none-any.whl.metadata (3.8 kB)\n",
      "Collecting fonttools>=4.22.0 (from matplotlib>=3.3->qiskit[visualization])\n",
      "  Using cached fonttools-4.52.4-cp311-cp311-macosx_11_0_arm64.whl.metadata (161 kB)\n",
      "Collecting kiwisolver>=1.3.1 (from matplotlib>=3.3->qiskit[visualization])\n",
      "  Using cached kiwisolver-1.4.5-cp311-cp311-macosx_11_0_arm64.whl.metadata (6.4 kB)\n",
      "Requirement already satisfied: packaging>=20.0 in /Users/danuk.udagama/projects/HNCI_explain/hncdi-explain-3-tutorials/.venv/lib/python3.11/site-packages (from matplotlib>=3.3->qiskit[visualization]) (24.0)\n",
      "Collecting pyparsing>=2.3.1 (from matplotlib>=3.3->qiskit[visualization])\n",
      "  Using cached pyparsing-3.1.2-py3-none-any.whl.metadata (5.1 kB)\n",
      "Requirement already satisfied: six>=1.5 in /Users/danuk.udagama/projects/HNCI_explain/hncdi-explain-3-tutorials/.venv/lib/python3.11/site-packages (from python-dateutil>=2.8.0->qiskit[visualization]) (1.16.0)\n",
      "Collecting pandas>=1.2 (from seaborn>=0.9.0->qiskit[visualization])\n",
      "  Using cached pandas-2.2.2-cp311-cp311-macosx_11_0_arm64.whl.metadata (19 kB)\n",
      "Requirement already satisfied: pbr!=2.1.0,>=2.0.0 in /Users/danuk.udagama/projects/HNCI_explain/hncdi-explain-3-tutorials/.venv/lib/python3.11/site-packages (from stevedore>=3.0.0->qiskit[visualization]) (6.0.0)\n",
      "Requirement already satisfied: mpmath<1.4.0,>=1.1.0 in /Users/danuk.udagama/projects/HNCI_explain/hncdi-explain-3-tutorials/.venv/lib/python3.11/site-packages (from sympy>=1.3->qiskit[visualization]) (1.3.0)\n",
      "Collecting pytz>=2020.1 (from pandas>=1.2->seaborn>=0.9.0->qiskit[visualization])\n",
      "  Using cached pytz-2024.1-py2.py3-none-any.whl.metadata (22 kB)\n",
      "Collecting tzdata>=2022.7 (from pandas>=1.2->seaborn>=0.9.0->qiskit[visualization])\n",
      "  Using cached tzdata-2024.1-py2.py3-none-any.whl.metadata (1.4 kB)\n",
      "Using cached matplotlib-3.9.0-cp311-cp311-macosx_11_0_arm64.whl (7.8 MB)\n",
      "Using cached pillow-10.3.0-cp311-cp311-macosx_11_0_arm64.whl (3.4 MB)\n",
      "Using cached seaborn-0.13.2-py3-none-any.whl (294 kB)\n",
      "Using cached pydot-2.0.0-py3-none-any.whl (22 kB)\n",
      "Using cached contourpy-1.2.1-cp311-cp311-macosx_11_0_arm64.whl (245 kB)\n",
      "Using cached cycler-0.12.1-py3-none-any.whl (8.3 kB)\n",
      "Using cached fonttools-4.52.4-cp311-cp311-macosx_11_0_arm64.whl (2.2 MB)\n",
      "Using cached kiwisolver-1.4.5-cp311-cp311-macosx_11_0_arm64.whl (66 kB)\n",
      "Using cached pandas-2.2.2-cp311-cp311-macosx_11_0_arm64.whl (11.3 MB)\n",
      "Using cached pyparsing-3.1.2-py3-none-any.whl (103 kB)\n",
      "Using cached pytz-2024.1-py2.py3-none-any.whl (505 kB)\n",
      "Using cached tzdata-2024.1-py2.py3-none-any.whl (345 kB)\n",
      "Installing collected packages: pytz, pylatexenc, tzdata, pyparsing, Pillow, kiwisolver, fonttools, cycler, contourpy, pydot, pandas, matplotlib, seaborn\n",
      "Successfully installed Pillow-10.3.0 contourpy-1.2.1 cycler-0.12.1 fonttools-4.52.4 kiwisolver-1.4.5 matplotlib-3.9.0 pandas-2.2.2 pydot-2.0.0 pylatexenc-2.10 pyparsing-3.1.2 pytz-2024.1 seaborn-0.13.2 tzdata-2024.1\n",
      "Note: you may need to restart the kernel to use updated packages.\n",
      "Collecting qiskit-ibm-runtime\n",
      "  Using cached qiskit_ibm_runtime-0.23.0-py3-none-any.whl.metadata (19 kB)\n",
      "Collecting requests>=2.19 (from qiskit-ibm-runtime)\n",
      "  Using cached requests-2.32.3-py3-none-any.whl.metadata (4.6 kB)\n",
      "Collecting requests-ntlm>=1.1.0 (from qiskit-ibm-runtime)\n",
      "  Using cached requests_ntlm-1.2.0-py3-none-any.whl.metadata (2.4 kB)\n",
      "Requirement already satisfied: numpy>=1.13 in /Users/danuk.udagama/projects/HNCI_explain/hncdi-explain-3-tutorials/.venv/lib/python3.11/site-packages (from qiskit-ibm-runtime) (1.26.4)\n",
      "Collecting urllib3>=1.21.1 (from qiskit-ibm-runtime)\n",
      "  Using cached urllib3-2.2.1-py3-none-any.whl.metadata (6.4 kB)\n",
      "Requirement already satisfied: python-dateutil>=2.8.0 in /Users/danuk.udagama/projects/HNCI_explain/hncdi-explain-3-tutorials/.venv/lib/python3.11/site-packages (from qiskit-ibm-runtime) (2.9.0.post0)\n",
      "Collecting websocket-client>=1.5.1 (from qiskit-ibm-runtime)\n",
      "  Using cached websocket_client-1.8.0-py3-none-any.whl.metadata (8.0 kB)\n",
      "Collecting ibm-platform-services>=0.22.6 (from qiskit-ibm-runtime)\n",
      "  Using cached ibm_platform_services-0.53.7-py3-none-any.whl\n",
      "Collecting pydantic (from qiskit-ibm-runtime)\n",
      "  Using cached pydantic-2.7.2-py3-none-any.whl.metadata (108 kB)\n",
      "Requirement already satisfied: qiskit>=1.0.0 in /Users/danuk.udagama/projects/HNCI_explain/hncdi-explain-3-tutorials/.venv/lib/python3.11/site-packages (from qiskit-ibm-runtime) (1.1.0)\n",
      "Collecting ibm-cloud-sdk-core<4.0.0,>=3.19.2 (from ibm-platform-services>=0.22.6->qiskit-ibm-runtime)\n",
      "  Using cached ibm_cloud_sdk_core-3.20.0-py3-none-any.whl\n",
      "Requirement already satisfied: six>=1.5 in /Users/danuk.udagama/projects/HNCI_explain/hncdi-explain-3-tutorials/.venv/lib/python3.11/site-packages (from python-dateutil>=2.8.0->qiskit-ibm-runtime) (1.16.0)\n",
      "Requirement already satisfied: rustworkx>=0.14.0 in /Users/danuk.udagama/projects/HNCI_explain/hncdi-explain-3-tutorials/.venv/lib/python3.11/site-packages (from qiskit>=1.0.0->qiskit-ibm-runtime) (0.14.2)\n",
      "Requirement already satisfied: scipy>=1.5 in /Users/danuk.udagama/projects/HNCI_explain/hncdi-explain-3-tutorials/.venv/lib/python3.11/site-packages (from qiskit>=1.0.0->qiskit-ibm-runtime) (1.13.1)\n",
      "Requirement already satisfied: sympy>=1.3 in /Users/danuk.udagama/projects/HNCI_explain/hncdi-explain-3-tutorials/.venv/lib/python3.11/site-packages (from qiskit>=1.0.0->qiskit-ibm-runtime) (1.12.1)\n",
      "Requirement already satisfied: dill>=0.3 in /Users/danuk.udagama/projects/HNCI_explain/hncdi-explain-3-tutorials/.venv/lib/python3.11/site-packages (from qiskit>=1.0.0->qiskit-ibm-runtime) (0.3.8)\n",
      "Requirement already satisfied: stevedore>=3.0.0 in /Users/danuk.udagama/projects/HNCI_explain/hncdi-explain-3-tutorials/.venv/lib/python3.11/site-packages (from qiskit>=1.0.0->qiskit-ibm-runtime) (5.2.0)\n",
      "Requirement already satisfied: typing-extensions in /Users/danuk.udagama/projects/HNCI_explain/hncdi-explain-3-tutorials/.venv/lib/python3.11/site-packages (from qiskit>=1.0.0->qiskit-ibm-runtime) (4.12.0)\n",
      "Requirement already satisfied: symengine>=0.11 in /Users/danuk.udagama/projects/HNCI_explain/hncdi-explain-3-tutorials/.venv/lib/python3.11/site-packages (from qiskit>=1.0.0->qiskit-ibm-runtime) (0.11.0)\n",
      "Collecting charset-normalizer<4,>=2 (from requests>=2.19->qiskit-ibm-runtime)\n",
      "  Using cached charset_normalizer-3.3.2-cp311-cp311-macosx_11_0_arm64.whl.metadata (33 kB)\n",
      "Collecting idna<4,>=2.5 (from requests>=2.19->qiskit-ibm-runtime)\n",
      "  Using cached idna-3.7-py3-none-any.whl.metadata (9.9 kB)\n",
      "Collecting certifi>=2017.4.17 (from requests>=2.19->qiskit-ibm-runtime)\n",
      "  Using cached certifi-2024.2.2-py3-none-any.whl.metadata (2.2 kB)\n",
      "Collecting cryptography>=1.3 (from requests-ntlm>=1.1.0->qiskit-ibm-runtime)\n",
      "  Using cached cryptography-42.0.7-cp39-abi3-macosx_10_12_universal2.whl.metadata (5.3 kB)\n",
      "Collecting pyspnego>=0.1.6 (from requests-ntlm>=1.1.0->qiskit-ibm-runtime)\n",
      "  Using cached pyspnego-0.10.2-py3-none-any.whl.metadata (5.4 kB)\n",
      "Collecting annotated-types>=0.4.0 (from pydantic->qiskit-ibm-runtime)\n",
      "  Using cached annotated_types-0.7.0-py3-none-any.whl.metadata (15 kB)\n",
      "Collecting pydantic-core==2.18.3 (from pydantic->qiskit-ibm-runtime)\n",
      "  Using cached pydantic_core-2.18.3-cp311-cp311-macosx_11_0_arm64.whl.metadata (6.5 kB)\n",
      "Collecting cffi>=1.12 (from cryptography>=1.3->requests-ntlm>=1.1.0->qiskit-ibm-runtime)\n",
      "  Using cached cffi-1.16.0-cp311-cp311-macosx_11_0_arm64.whl.metadata (1.5 kB)\n",
      "Collecting PyJWT<3.0.0,>=2.8.0 (from ibm-cloud-sdk-core<4.0.0,>=3.19.2->ibm-platform-services>=0.22.6->qiskit-ibm-runtime)\n",
      "  Using cached PyJWT-2.8.0-py3-none-any.whl.metadata (4.2 kB)\n",
      "Requirement already satisfied: pbr!=2.1.0,>=2.0.0 in /Users/danuk.udagama/projects/HNCI_explain/hncdi-explain-3-tutorials/.venv/lib/python3.11/site-packages (from stevedore>=3.0.0->qiskit>=1.0.0->qiskit-ibm-runtime) (6.0.0)\n",
      "Requirement already satisfied: mpmath<1.4.0,>=1.1.0 in /Users/danuk.udagama/projects/HNCI_explain/hncdi-explain-3-tutorials/.venv/lib/python3.11/site-packages (from sympy>=1.3->qiskit>=1.0.0->qiskit-ibm-runtime) (1.3.0)\n",
      "Collecting pycparser (from cffi>=1.12->cryptography>=1.3->requests-ntlm>=1.1.0->qiskit-ibm-runtime)\n",
      "  Using cached pycparser-2.22-py3-none-any.whl.metadata (943 bytes)\n",
      "Using cached qiskit_ibm_runtime-0.23.0-py3-none-any.whl (3.0 MB)\n",
      "Using cached requests-2.32.3-py3-none-any.whl (64 kB)\n",
      "Using cached requests_ntlm-1.2.0-py3-none-any.whl (6.0 kB)\n",
      "Using cached urllib3-2.2.1-py3-none-any.whl (121 kB)\n",
      "Using cached websocket_client-1.8.0-py3-none-any.whl (58 kB)\n",
      "Using cached pydantic-2.7.2-py3-none-any.whl (409 kB)\n",
      "Using cached pydantic_core-2.18.3-cp311-cp311-macosx_11_0_arm64.whl (1.8 MB)\n",
      "Using cached annotated_types-0.7.0-py3-none-any.whl (13 kB)\n",
      "Using cached certifi-2024.2.2-py3-none-any.whl (163 kB)\n",
      "Using cached charset_normalizer-3.3.2-cp311-cp311-macosx_11_0_arm64.whl (118 kB)\n",
      "Using cached cryptography-42.0.7-cp39-abi3-macosx_10_12_universal2.whl (5.9 MB)\n",
      "Using cached idna-3.7-py3-none-any.whl (66 kB)\n",
      "Using cached pyspnego-0.10.2-py3-none-any.whl (129 kB)\n",
      "Using cached cffi-1.16.0-cp311-cp311-macosx_11_0_arm64.whl (176 kB)\n",
      "Using cached PyJWT-2.8.0-py3-none-any.whl (22 kB)\n",
      "Using cached pycparser-2.22-py3-none-any.whl (117 kB)\n",
      "Installing collected packages: websocket-client, urllib3, PyJWT, pydantic-core, pycparser, idna, charset-normalizer, certifi, annotated-types, requests, pydantic, cffi, ibm-cloud-sdk-core, cryptography, pyspnego, ibm-platform-services, requests-ntlm, qiskit-ibm-runtime\n",
      "Successfully installed PyJWT-2.8.0 annotated-types-0.7.0 certifi-2024.2.2 cffi-1.16.0 charset-normalizer-3.3.2 cryptography-42.0.7 ibm-cloud-sdk-core-3.20.0 ibm-platform-services-0.53.7 idna-3.7 pycparser-2.22 pydantic-2.7.2 pydantic-core-2.18.3 pyspnego-0.10.2 qiskit-ibm-runtime-0.23.0 requests-2.32.3 requests-ntlm-1.2.0 urllib3-2.2.1 websocket-client-1.8.0\n",
      "Note: you may need to restart the kernel to use updated packages.\n",
      "Collecting qiskit-aer\n",
      "  Using cached qiskit_aer-0.14.2-cp311-cp311-macosx_11_0_arm64.whl.metadata (8.1 kB)\n",
      "Requirement already satisfied: qiskit>=0.45.2 in /Users/danuk.udagama/projects/HNCI_explain/hncdi-explain-3-tutorials/.venv/lib/python3.11/site-packages (from qiskit-aer) (1.1.0)\n",
      "Requirement already satisfied: numpy>=1.16.3 in /Users/danuk.udagama/projects/HNCI_explain/hncdi-explain-3-tutorials/.venv/lib/python3.11/site-packages (from qiskit-aer) (1.26.4)\n",
      "Requirement already satisfied: scipy>=1.0 in /Users/danuk.udagama/projects/HNCI_explain/hncdi-explain-3-tutorials/.venv/lib/python3.11/site-packages (from qiskit-aer) (1.13.1)\n",
      "Requirement already satisfied: psutil>=5 in /Users/danuk.udagama/projects/HNCI_explain/hncdi-explain-3-tutorials/.venv/lib/python3.11/site-packages (from qiskit-aer) (5.9.8)\n",
      "Requirement already satisfied: rustworkx>=0.14.0 in /Users/danuk.udagama/projects/HNCI_explain/hncdi-explain-3-tutorials/.venv/lib/python3.11/site-packages (from qiskit>=0.45.2->qiskit-aer) (0.14.2)\n",
      "Requirement already satisfied: sympy>=1.3 in /Users/danuk.udagama/projects/HNCI_explain/hncdi-explain-3-tutorials/.venv/lib/python3.11/site-packages (from qiskit>=0.45.2->qiskit-aer) (1.12.1)\n",
      "Requirement already satisfied: dill>=0.3 in /Users/danuk.udagama/projects/HNCI_explain/hncdi-explain-3-tutorials/.venv/lib/python3.11/site-packages (from qiskit>=0.45.2->qiskit-aer) (0.3.8)\n",
      "Requirement already satisfied: python-dateutil>=2.8.0 in /Users/danuk.udagama/projects/HNCI_explain/hncdi-explain-3-tutorials/.venv/lib/python3.11/site-packages (from qiskit>=0.45.2->qiskit-aer) (2.9.0.post0)\n",
      "Requirement already satisfied: stevedore>=3.0.0 in /Users/danuk.udagama/projects/HNCI_explain/hncdi-explain-3-tutorials/.venv/lib/python3.11/site-packages (from qiskit>=0.45.2->qiskit-aer) (5.2.0)\n",
      "Requirement already satisfied: typing-extensions in /Users/danuk.udagama/projects/HNCI_explain/hncdi-explain-3-tutorials/.venv/lib/python3.11/site-packages (from qiskit>=0.45.2->qiskit-aer) (4.12.0)\n",
      "Requirement already satisfied: symengine>=0.11 in /Users/danuk.udagama/projects/HNCI_explain/hncdi-explain-3-tutorials/.venv/lib/python3.11/site-packages (from qiskit>=0.45.2->qiskit-aer) (0.11.0)\n",
      "Requirement already satisfied: six>=1.5 in /Users/danuk.udagama/projects/HNCI_explain/hncdi-explain-3-tutorials/.venv/lib/python3.11/site-packages (from python-dateutil>=2.8.0->qiskit>=0.45.2->qiskit-aer) (1.16.0)\n",
      "Requirement already satisfied: pbr!=2.1.0,>=2.0.0 in /Users/danuk.udagama/projects/HNCI_explain/hncdi-explain-3-tutorials/.venv/lib/python3.11/site-packages (from stevedore>=3.0.0->qiskit>=0.45.2->qiskit-aer) (6.0.0)\n",
      "Requirement already satisfied: mpmath<1.4.0,>=1.1.0 in /Users/danuk.udagama/projects/HNCI_explain/hncdi-explain-3-tutorials/.venv/lib/python3.11/site-packages (from sympy>=1.3->qiskit>=0.45.2->qiskit-aer) (1.3.0)\n",
      "Using cached qiskit_aer-0.14.2-cp311-cp311-macosx_11_0_arm64.whl (2.2 MB)\n",
      "Installing collected packages: qiskit-aer\n",
      "Successfully installed qiskit-aer-0.14.2\n",
      "Note: you may need to restart the kernel to use updated packages.\n"
     ]
    }
   ],
   "source": [
    "# Install the qiskit library\n",
    "%pip install 'qiskit[visualization]'\n",
    "%pip install qiskit-ibm-runtime\n",
    "%pip install qiskit-aer"
   ]
  },
  {
   "cell_type": "markdown",
   "id": "81c8d746",
   "metadata": {},
   "source": [
    "### Import the necessary modules from the Qiskit library\n"
   ]
  },
  {
   "cell_type": "code",
   "execution_count": 4,
   "id": "27ca5cf5",
   "metadata": {},
   "outputs": [],
   "source": [
    "import numpy as np\n",
    "from qiskit.visualization import *\n",
    "from qiskit_aer import AerSimulator\n",
    "from qiskit.compiler import transpile\n",
    "from qiskit_aer.primitives import SamplerV2\n",
    "from qiskit_ibm_runtime import QiskitRuntimeService\n",
    "from qiskit_ibm_runtime import SamplerV2 as real_sampler\n",
    "from qiskit import QuantumRegister, ClassicalRegister, QuantumCircuit, transpile\n",
    "\n",
    "# TODO: IBMQ was not imported, might be needed"
   ]
  },
  {
   "cell_type": "markdown",
   "id": "42e7845b",
   "metadata": {},
   "source": [
    "### Authenticate with IBM quantum\n",
    "\n",
    "You will require the API token specified in the IBM quantum platform to ensure you can execute your code on a real quantum computer."
   ]
  },
  {
   "cell_type": "code",
   "execution_count": 5,
   "id": "44219373",
   "metadata": {},
   "outputs": [],
   "source": [
    "my_token = \"<Paste your token here>\"\n",
    "\n",
    "service = QiskitRuntimeService(channel=\"ibm_quantum\", token=my_token)"
   ]
  },
  {
   "cell_type": "markdown",
   "id": "2c7ad5b7-ba66-40ee-9e62-008698f55162",
   "metadata": {
    "tags": []
   },
   "source": [
    "This is tutorial 1 on Grover's Algorithm. This is a 2-qubit example, with 1-Grover iteration. \n",
    "\n",
    "__Task__. In cell 2, modify the circuit for the oracle which marks different items. You should find that changing the circuit outputs a different bit-string corresponding to the good item. \n",
    "\n",
    "We will then implement Grover's algorithm, which can can be described in 3 main steps.\n",
    "\n",
    "1. Create the superposition state $|s \\rangle$.\n",
    "2. Apply the circuit for the black box.\n",
    "3. Apply the Grover Diffusion operator.\n",
    "\n",
    "We will then submit this circuit to: 1) a simulator, 2) real quantum hardware."
   ]
  },
  {
   "cell_type": "markdown",
   "id": "a5438373-8199-4727-8285-06f1f231610e",
   "metadata": {},
   "source": [
    "__Task__. In the cell below, we will create the quantum circuit for the oracle that implements $f$. There are 4 different circuits that implement $f(x_m)$ for a different bit string $x_m$. By commenting out different circuits, see how this changes the good item found through Grover's algorithm.\n",
    "\n",
    "As an example, remove the comments for qc.cz(0,1) and comment out the circuits below the remaining bit strings."
   ]
  },
  {
   "cell_type": "code",
   "execution_count": 6,
   "id": "758a927a-3fa0-4c09-b86b-ff756225873a",
   "metadata": {
    "tags": []
   },
   "outputs": [
    {
     "name": "stderr",
     "output_type": "stream",
     "text": [
      "Matplotlib is building the font cache; this may take a moment.\n"
     ]
    },
    {
     "data": {
      "image/png": "[encoded data removed]",
      "text/plain": [
       "<Figure size 287.294x200.667 with 1 Axes>"
      ]
     },
     "execution_count": 6,
     "metadata": {},
     "output_type": "execute_result"
    }
   ],
   "source": [
    "## Here we will create a quantum circuit for the oracle\n",
    "qc = QuantumCircuit(2) \n",
    "\n",
    "### COMMENT OUT VARIUS CIRCUITS HERE ###\n",
    "\n",
    "## 00 ## \n",
    "qc.cz(0,1)\n",
    "qc.z(0)\n",
    "qc.z(1)\n",
    "\n",
    "## 01 ## \n",
    "#qc.cz(0,1)\n",
    "#qc.z(0)\n",
    "\n",
    "## 10 ## \n",
    "#qc.cz(0,1)\n",
    "#qc.z(1)\n",
    "\n",
    "## 11 ## \n",
    "#qc.cz(0,1)\n",
    "\n",
    "#Draw black box circuit\n",
    "qc.draw('mpl') "
   ]
  },
  {
   "cell_type": "markdown",
   "id": "9a650fc1-08fa-4c52-9ff3-a5baa5170678",
   "metadata": {
    "tags": []
   },
   "source": [
    "We will now step through Grover's algorithm. \n",
    "\n",
    "__Step 1__: Create the superposition state $|s \\rangle$. To do this we will first create a quantum circuit of $n=2$ qubits and then apply a layer of Hadamard Gates, creating the state $|s \\rangle = \\sum_{x\\in \\{0,1\\}^n} |x \\rangle $."
   ]
  },
  {
   "cell_type": "code",
   "execution_count": 7,
   "id": "12daee04-6870-40ea-a84c-7b3ed33250e5",
   "metadata": {
    "tags": []
   },
   "outputs": [
    {
     "data": {
      "image/png": "[encoded data removed]",
      "text/plain": [
       "<Figure size 287.294x200.667 with 1 Axes>"
      ]
     },
     "execution_count": 7,
     "metadata": {},
     "output_type": "execute_result"
    }
   ],
   "source": [
    "# Define no. of qubits to be n = 2 and create a quantum circuit called \"circ\" with an n-qubit register.\n",
    "n = 2\n",
    "circ = QuantumCircuit(n)\n",
    "\n",
    "#Apply a Hadamard gate to each qubit in the circuit.\n",
    "for i in range(n):\n",
    "    circ.h(i)\n",
    "\n",
    "circ.barrier()\n",
    "circ.draw('mpl') "
   ]
  },
  {
   "cell_type": "markdown",
   "id": "46b2acf2-1122-46e0-aa4d-66bcb50e4258",
   "metadata": {},
   "source": [
    " __Step 2__. Apply the circuit for the black box. Apply the black box circuit $U_{O}$ that we have explicitly constructed and apply it to the state $|s \\rangle $."
   ]
  },
  {
   "cell_type": "code",
   "execution_count": 8,
   "id": "6f6a4490-deec-4412-b2b6-17e80db01dc0",
   "metadata": {
    "tags": []
   },
   "outputs": [
    {
     "data": {
      "image/png": "[encoded data removed]",
      "text/plain": [
       "<Figure size 454.517x200.667 with 1 Axes>"
      ]
     },
     "execution_count": 8,
     "metadata": {},
     "output_type": "execute_result"
    }
   ],
   "source": [
    "# Create a quantum circuit with a CZ gate\n",
    "oracle = qc.to_gate()\n",
    "oracle.name = \"$U_f$\"\n",
    "circ.append(oracle, [0,1])\n",
    "circ.barrier()\n",
    "circ.draw('mpl') "
   ]
  },
  {
   "cell_type": "markdown",
   "id": "94349c8e-6289-4c8a-9c87-790b24b868a3",
   "metadata": {},
   "source": [
    "Step 3. Apply the Grover Diffusion operator.\n",
    "\n"
   ]
  },
  {
   "cell_type": "code",
   "execution_count": 9,
   "id": "e3c6ca29-d6bc-4fe3-8457-9c95c5b86c99",
   "metadata": {},
   "outputs": [
    {
     "data": {
      "image/png": "[encoded data removed]",
      "text/plain": [
       "<Figure size 454.517x200.667 with 1 Axes>"
      ]
     },
     "execution_count": 9,
     "metadata": {},
     "output_type": "execute_result"
    }
   ],
   "source": [
    "qc = QuantumCircuit(2)\n",
    "\n",
    "for i in range(n):\n",
    "    qc.h(i)\n",
    "    qc.z(i)\n",
    "    \n",
    "qc.cz(0,1)\n",
    "qc.h([0,1])\n",
    "\n",
    "#draw diffuser\n",
    "qc.draw('mpl')"
   ]
  },
  {
   "cell_type": "code",
   "execution_count": 10,
   "id": "38af45e2-4178-44f9-9f5a-e54988c64b06",
   "metadata": {
    "tags": []
   },
   "outputs": [
    {
     "data": {
      "image/png": "[encoded data removed]",
      "text/plain": [
       "<Figure size 831.22x284.278 with 1 Axes>"
      ]
     },
     "execution_count": 10,
     "metadata": {},
     "output_type": "execute_result"
    }
   ],
   "source": [
    "diffuser = qc.to_gate()\n",
    "diffuser.name = \"$U_D$\"\n",
    "circ.append(diffuser, [0,1])\n",
    "circ.measure_all()\n",
    "circ.draw('mpl') "
   ]
  },
  {
   "cell_type": "markdown",
   "id": "44aeeafa-025c-4e6f-adaa-3237020869be",
   "metadata": {},
   "source": [
    "__Step 4__: We will now submit the quantum circuit to A) a simulator and B) a real quantum computer. \n",
    "\n",
    "In theory, we should find the bit-string corresponding to the good item $x_m$ with certainty."
   ]
  },
  {
   "cell_type": "code",
   "execution_count": 11,
   "id": "413a6808-e249-4749-ad5d-d459a47acc58",
   "metadata": {
    "tags": []
   },
   "outputs": [
    {
     "data": {
      "image/png": "[encoded data removed]",
      "text/plain": [
       "<Figure size 640x480 with 1 Axes>"
      ]
     },
     "execution_count": 11,
     "metadata": {},
     "output_type": "execute_result"
    }
   ],
   "source": [
    "# OPTION 1: RUN ON QUANTUM SIMULATOR\n",
    "sim = AerSimulator()\n",
    "sampler = SamplerV2()\n",
    "t_circ = transpile(circ, sim, optimization_level=3)\n",
    "results = sampler.run([t_circ], shots=1024).result()\n",
    "answer = results[0].data.meas.get_counts()\n",
    "plot_histogram(answer)"
   ]
  },
  {
   "cell_type": "code",
   "execution_count": 12,
   "id": "7b7042fe-1ff6-4313-8bf8-099f70730c71",
   "metadata": {
    "tags": []
   },
   "outputs": [
    {
     "data": {
      "image/png": "[encoded data removed]",
      "text/plain": [
       "<Figure size 640x480 with 1 Axes>"
      ]
     },
     "execution_count": 12,
     "metadata": {},
     "output_type": "execute_result"
    }
   ],
   "source": [
    "# OPTION 2: RUN ON QUANTUM HARDWARE\n",
    "\n",
    "backend = service.least_busy(operational=True, simulator=False)\n",
    "sampler = real_sampler(backend)\n",
    "t_circ = transpile(circ, backend, optimization_level=3)\n",
    "job = sampler.run([t_circ], shots=1024)\n",
    "results = job.result()\n",
    "answer = results[0].data.meas.get_counts()\n",
    "plot_histogram(answer)"
   ]
  }
 ],
 "metadata": {
  "kernelspec": {
   "display_name": "Python 3 (ipykernel)",
   "language": "python",
   "name": "python3"
  },
  "language_info": {
   "codemirror_mode": {
    "name": "ipython",
    "version": 3
   },
   "file_extension": ".py",
   "mimetype": "text/x-python",
   "name": "python",
   "nbconvert_exporter": "python",
   "pygments_lexer": "ipython3",
   "version": "3.11.6"
  },
  "widgets": {
   "application/vnd.jupyter.widget-state+json": {
    "state": {},
    "version_major": 2,
    "version_minor": 0
   }
  }
 },
 "nbformat": 4,
 "nbformat_minor": 5
}
