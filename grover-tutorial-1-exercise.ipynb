{
 "cells": [
  {
   "cell_type": "markdown",
   "id": "1b84a11e",
   "metadata": {
    "tags": []
   },
   "source": [
    "# HNCDI Explain:  Grover Tutorial 1"
   ]
  },
  {
   "cell_type": "markdown",
   "id": "2c7ad5b7-ba66-40ee-9e62-008698f55162",
   "metadata": {
    "tags": []
   },
   "source": [
    "This is tutorial 1 on Grover's Algorithm. This is a 2-qubit example, with 1-Grover iteration. \n",
    "\n",
    "__Task__. In cell 2, modify the circuit for the oracle which marks different items. You should find that changing the circuit outputs a different bit-string corresponding to the good item. \n",
    "\n",
    "We will then implement Grover's algorithm, which can can be described in 3 main steps.\n",
    "\n",
    "1. Create the superposition state $|s \\rangle$.\n",
    "2. Apply the circuit for the black box.\n",
    "3. Apply the Grover Diffusion operator.\n",
    "\n",
    "We will then submit this circuit to: 1) a simulator, 2) real quantum hardware."
   ]
  },
  {
   "cell_type": "code",
   "execution_count": null,
   "id": "fdca3bd5-272d-4553-8004-d96c28ab8107",
   "metadata": {
    "tags": []
   },
   "outputs": [],
   "source": [
    "# Import standard Qiskit libraries\n",
    "import numpy as np\n",
    "from qiskit import QuantumRegister, ClassicalRegister, QuantumCircuit, transpile, Aer, IBMQ\n",
    "from qiskit.compiler import transpile\n",
    "from qiskit.tools.jupyter import *\n",
    "from qiskit.visualization import *\n",
    "from ibm_quantum_widgets import *\n",
    "\n",
    "from qiskit import execute\n",
    "from qiskit.providers.ibmq import least_busy"
   ]
  },
  {
   "cell_type": "markdown",
   "id": "a5438373-8199-4727-8285-06f1f231610e",
   "metadata": {},
   "source": [
    "__Task__. In the cell below, we will create the quantum circuit for the oracle that implements $f$. There are 4 different circuits that implement $f(x_m)$ for a different bit string $x_m$. By commenting out different circuits, see how this changes the good item found through Grover's algorithm.\n",
    "\n",
    "As an example, remove the comments for qc.cz(0,1) and comment out the circuits below the remaining bit strings."
   ]
  },
  {
   "cell_type": "code",
   "execution_count": null,
   "id": "758a927a-3fa0-4c09-b86b-ff756225873a",
   "metadata": {
    "tags": []
   },
   "outputs": [],
   "source": [
    "## Here we will create a quantum circuit for the oracle\n",
    "qc = QuantumCircuit(2) \n",
    "\n",
    "### COMMENT OUT VARIUS CIRCUITS HERE ###\n",
    "\n",
    "## 00 ## \n",
    "qc.cz(0,1)\n",
    "qc.z(0)\n",
    "qc.z(1)\n",
    "\n",
    "## 01 ## \n",
    "#qc.cz(0,1)\n",
    "#qc.z(0)\n",
    "\n",
    "## 10 ## \n",
    "#qc.cz(0,1)\n",
    "#qc.z(1)\n",
    "\n",
    "## 11 ## \n",
    "#qc.cz(0,1)\n",
    "\n",
    "#Draw black box circuit\n",
    "qc.draw('mpl') "
   ]
  },
  {
   "cell_type": "markdown",
   "id": "9a650fc1-08fa-4c52-9ff3-a5baa5170678",
   "metadata": {
    "tags": []
   },
   "source": [
    "We will now step through Grover's algorithm. \n",
    "\n",
    "__Step 1__: Create the superposition state $|s \\rangle$. To do this we will first create a quantum circuit of $n=2$ qubits and then apply a layer of Hadamard Gates, creating the state $|s \\rangle = \\sum_{x\\in \\{0,1\\}^n} |x \\rangle $."
   ]
  },
  {
   "cell_type": "code",
   "execution_count": null,
   "id": "12daee04-6870-40ea-a84c-7b3ed33250e5",
   "metadata": {
    "tags": []
   },
   "outputs": [],
   "source": [
    "# Define no. of qubits to be n = 2 and create a quantum circuit called \"circ\" with an n-qubit register.\n",
    "n = 2;\n",
    "circ = QuantumCircuit(n)\n",
    "\n",
    "#Apply a Hadamard gate to each qubit in the circuit.\n",
    "for i in range(n):\n",
    "    circ.h(i)\n",
    "\n",
    "circ.barrier()\n",
    "circ.draw('mpl') "
   ]
  },
  {
   "cell_type": "markdown",
   "id": "46b2acf2-1122-46e0-aa4d-66bcb50e4258",
   "metadata": {},
   "source": [
    " __Step 2__. Apply the circuit for the black box. Apply the black box circuit $U_{O}$ that we have explicitly constructed and apply it to the state $|s \\rangle $."
   ]
  },
  {
   "cell_type": "code",
   "execution_count": null,
   "id": "6f6a4490-deec-4412-b2b6-17e80db01dc0",
   "metadata": {
    "tags": []
   },
   "outputs": [],
   "source": [
    "# Create a quantum circuit with a CZ gate\n",
    "oracle = qc.to_gate()\n",
    "oracle.name = \"$U_f$\"\n",
    "circ.append(oracle, [0,1])\n",
    "circ.barrier()\n",
    "circ.draw('mpl') "
   ]
  },
  {
   "cell_type": "markdown",
   "id": "94349c8e-6289-4c8a-9c87-790b24b868a3",
   "metadata": {},
   "source": [
    "Step 3. Apply the Grover Diffusion operator.\n",
    "\n"
   ]
  },
  {
   "cell_type": "code",
   "execution_count": null,
   "id": "e3c6ca29-d6bc-4fe3-8457-9c95c5b86c99",
   "metadata": {},
   "outputs": [],
   "source": [
    "qc = QuantumCircuit(2)\n",
    "\n",
    "for i in range(n):\n",
    "    qc.h(i)\n",
    "    qc.z(i)\n",
    "    \n",
    "qc.cz(0,1)\n",
    "qc.h([0,1])\n",
    "\n",
    "#draw diffuser\n",
    "qc.draw('mpl')"
   ]
  },
  {
   "cell_type": "code",
   "execution_count": null,
   "id": "38af45e2-4178-44f9-9f5a-e54988c64b06",
   "metadata": {
    "tags": []
   },
   "outputs": [],
   "source": [
    "diffuser = qc.to_gate()\n",
    "diffuser.name = \"$U_D$\"\n",
    "circ.append(diffuser, [0,1])\n",
    "circ.measure_all()\n",
    "circ.draw('mpl') "
   ]
  },
  {
   "cell_type": "markdown",
   "id": "44aeeafa-025c-4e6f-adaa-3237020869be",
   "metadata": {},
   "source": [
    "__Step 4__: We will now submit the quantum circuit to A) a simulator and B) a real quantum computer. \n",
    "\n",
    "In theory, we should find the bit-string corresponding to the good item $x_m$ with certainty."
   ]
  },
  {
   "cell_type": "code",
   "execution_count": null,
   "id": "413a6808-e249-4749-ad5d-d459a47acc58",
   "metadata": {
    "tags": []
   },
   "outputs": [],
   "source": [
    "# OPTION 1: RUN ON QUANTUM SIMULATOR\n",
    "backend = Aer.get_backend('qasm_simulator')\n",
    "results = execute(circ, backend=backend, shots=1024).result()\n",
    "answer = results.get_counts()\n",
    "plot_histogram(answer)"
   ]
  },
  {
   "cell_type": "code",
   "execution_count": null,
   "id": "7b7042fe-1ff6-4313-8bf8-099f70730c71",
   "metadata": {
    "tags": []
   },
   "outputs": [],
   "source": [
    "# OPTION 2: RUN ON QUANTUM HARDWARE\n",
    "\n",
    "#provider = IBMQ.load_account() \n",
    "#device = least_busy(provider.backends(filters=lambda x: x.configuration().n_qubits >= 2 and not x.configuration().simulator and x.status().operational==True))\n",
    "# t_circ = transpile(circ, device, optimization_level=3)\n",
    "#job = execute(t_circ, backend = device, shots =1024, optimization_level = 3)\n",
    "#from qiskit.tools.monitor import job_monitor\n",
    "#job_monitor(job, interval = 2)\n",
    "#results = job.result()\n",
    "#answer = results.get_counts(circ)\n",
    "#plot_histogram(answer)"
   ]
  }
 ],
 "metadata": {
  "kernelspec": {
   "display_name": "Python 3 (ipykernel)",
   "language": "python",
   "name": "python3"
  },
  "language_info": {
   "codemirror_mode": {
    "name": "ipython",
    "version": 3
   },
   "file_extension": ".py",
   "mimetype": "text/x-python",
   "name": "python",
   "nbconvert_exporter": "python",
   "pygments_lexer": "ipython3",
   "version": "3.10.8"
  },
  "widgets": {
   "application/vnd.jupyter.widget-state+json": {
    "state": {},
    "version_major": 2,
    "version_minor": 0
   }
  }
 },
 "nbformat": 4,
 "nbformat_minor": 5
}
