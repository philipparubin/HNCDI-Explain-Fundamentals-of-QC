{
 "cells": [
  {
   "attachments": {},
   "cell_type": "markdown",
   "metadata": {},
   "source": [
    "# Shor Tutorial"
   ]
  },
  {
   "attachments": {},
   "cell_type": "markdown",
   "metadata": {},
   "source": [
    "## Inspiration"
   ]
  },
  {
   "attachments": {},
   "cell_type": "markdown",
   "metadata": {},
   "source": [
    "A prime number is a natural number greater than 1 that is divisible by only 1 and itself. The first five prime numbers are $2, 3, 5, 7,$ and $11$. By multiplying two prime numbers, we can generate composite numbers with two prime factors. For example $21 = 3 \\times 7$. \n",
    "\n",
    "An interesting question to ask is, given a composite number, can one devise an algorithm to find its prime factors? We can write a classical algorithm to solve this problem."
   ]
  },
  {
   "cell_type": "code",
   "execution_count": 1,
   "metadata": {},
   "outputs": [],
   "source": [
    "def prime_factors(n):\n",
    "    \"\"\"Returns the prime factors of a number\n",
    "    Args:\n",
    "        n (int): The integer to factor\n",
    "    Returns:\n",
    "        list: The list of prime factors\n",
    "    \"\"\"\n",
    "    factors = []\n",
    "    divisor = 2\n",
    "    while n > 2:\n",
    "        if n % divisor == 0:\n",
    "            factors.append(divisor)\n",
    "            n = n / divisor\n",
    "        else:\n",
    "            divisor += 1\n",
    "    return factors"
   ]
  },
  {
   "attachments": {},
   "cell_type": "markdown",
   "metadata": {},
   "source": [
    "You can use this function to find prime factors of 21,"
   ]
  },
  {
   "cell_type": "code",
   "execution_count": 2,
   "metadata": {},
   "outputs": [
    {
     "name": "stdout",
     "output_type": "stream",
     "text": [
      "The prime factors of 21 are:  [3, 7]\n"
     ]
    }
   ],
   "source": [
    "n = 21 # change to XX\n",
    "\n",
    "print(\"The prime factors of 21 are: \", prime_factors(n))"
   ]
  },
  {
   "attachments": {},
   "cell_type": "markdown",
   "metadata": {},
   "source": [
    "21 is a small number which can be easily factorised. Let's try to factorise a large integer."
   ]
  },
  {
   "cell_type": "code",
   "execution_count": 3,
   "metadata": {},
   "outputs": [
    {
     "name": "stdout",
     "output_type": "stream",
     "text": [
      "The prime factors of 1000001789999791 are:  [10000019, 99999989]\n"
     ]
    }
   ],
   "source": [
    "n = 1000001789999791\n",
    "\n",
    "print(\"The prime factors of 1000001789999791 are: \", prime_factors(n))\n"
   ]
  },
  {
   "attachments": {},
   "cell_type": "markdown",
   "metadata": {},
   "source": [
    "Did you notice a difference between the two function calls? Factoring of the larger number takes significantly more time.\n",
    "\n",
    "We can confirm that the resultant factors of 1000001789999791 are indeed prime numbers using the following function."
   ]
  },
  {
   "cell_type": "code",
   "execution_count": 4,
   "metadata": {},
   "outputs": [],
   "source": [
    "import numpy as np\n",
    "\n",
    "def is_prime(n):\n",
    "    \"\"\"Returns True if n is prime, False otherwise\n",
    "    Args:\n",
    "        n (int): The integer to test\n",
    "    Returns:\n",
    "        bool: True if n is prime, False otherwise\n",
    "    \"\"\"\n",
    "    if n < 2:\n",
    "        return False\n",
    "    elif n == 2:\n",
    "        return True\n",
    "    else:\n",
    "        for i in range(2, int(np.sqrt(n))):\n",
    "            if n % i == 0:\n",
    "                return False\n",
    "        return True"
   ]
  },
  {
   "cell_type": "code",
   "execution_count": 5,
   "metadata": {},
   "outputs": [
    {
     "name": "stdout",
     "output_type": "stream",
     "text": [
      "Is a prime?  True\n",
      "Is b prime?  True\n",
      "Is 21 a prime?  False\n"
     ]
    }
   ],
   "source": [
    "a = 10000019 # change to XX\n",
    "b = 99999989 # change to XX\n",
    "\n",
    "# test whether a and b are prime\n",
    "\n",
    "print(\"Is a prime? \", is_prime(a))\n",
    "print(\"Is b prime? \", is_prime(b))\n",
    "print(\"Is 21 a prime? \", is_prime(21))\n"
   ]
  },
  {
   "attachments": {},
   "cell_type": "markdown",
   "metadata": {},
   "source": [
    "Finding prime factors of large composite numbers is important in fields like cryptography. In this tutorial, we look at the Shor's algorithm. Shor's algorithm is a quantum algorithm for finding prime factors of an integer."
   ]
  },
  {
   "attachments": {},
   "cell_type": "markdown",
   "metadata": {},
   "source": [
    "## Period Finding"
   ]
  },
  {
   "attachments": {},
   "cell_type": "markdown",
   "metadata": {},
   "source": [
    "The quantum part of the Shor's algorithm is concerned with the problem of period finding. Let's define the periodic function $f(x)$ by\n",
    "\n",
    "$$\n",
    "    f(x) = a^x\\mod N\n",
    "    $$"
   ]
  },
  {
   "attachments": {},
   "cell_type": "markdown",
   "metadata": {},
   "source": [
    "$\\mod N$ stands for [division modulo $N$](https://www.khanacademy.org/computing/computer-science/cryptography/modarithmetic/a/what-is-modular-arithmetic). Modular division returns the remainder when dividing one number by another. For example\n",
    "\n",
    "$$\n",
    "    11 = 3 \\mod 4\n",
    "    $$\n",
    "since $11 \\div 4$ returns $3$ as the remainder, i.e., $11 = 2 \\times 4 + 3$."
   ]
  },
  {
   "attachments": {},
   "cell_type": "markdown",
   "metadata": {},
   "source": [
    "The period of function $f(x)$ is defined as the smallest non-zero integer $r$ such that $f(r) = a^r \\mod N = 1$. A unique $r>0$ exists as long as $a<N$, and $a$ and $N$ do not have common factors, i.e., $\\gcd(a,N)=1$ (gcd stands for greatest common denominator)."
   ]
  },
  {
   "cell_type": "code",
   "execution_count": 6,
   "metadata": {},
   "outputs": [],
   "source": [
    "# f(x) = a^x mod N\n",
    "\n",
    "def f(x, a, N):\n",
    "    \"\"\"f(x) = a^x mod N\n",
    "    Args:\n",
    "        x (int): The exponent\n",
    "        a (int): The base\n",
    "        N (int): The modulus\n",
    "    Returns:\n",
    "        int: The result of a^x mod N\n",
    "    \"\"\"\n",
    "    return a**x % N"
   ]
  },
  {
   "cell_type": "code",
   "execution_count": 7,
   "metadata": {},
   "outputs": [],
   "source": [
    "\n",
    "\n",
    "def period(f, a, N, max_period=100):\n",
    "    \"\"\"Returns the period of f(x=r) = a^r mod N = 1\n",
    "    Args:\n",
    "        f (function): The function to test\n",
    "        a (int): The base\n",
    "        N (int): The modulus\n",
    "        max_period (int): The maximum period to test\n",
    "    Returns:\n",
    "        int: The period of f(x) = a^x mod N, 0 if no period found\n",
    "        basis (list): The list of intermediate function values [f(x)]\n",
    "    \"\"\"\n",
    "    basis = []\n",
    "    for i in range(1,max_period+1):\n",
    "        y = f(i, a, N)\n",
    "        basis.append(y)\n",
    "        if y == 1:\n",
    "            return i , basis\n",
    "    return 0, basis\n"
   ]
  },
  {
   "attachments": {},
   "cell_type": "markdown",
   "metadata": {},
   "source": [
    "Let's try finding the period of $f(x) = a^x \\mod N$ for $a=3, N=15$, and $a=7, N=15$."
   ]
  },
  {
   "cell_type": "code",
   "execution_count": 8,
   "metadata": {},
   "outputs": [
    {
     "name": "stdout",
     "output_type": "stream",
     "text": [
      "No period found. Consider increasing max_period, or check that a and N are coprime.\n",
      "The period of f(x) = 7^x mod + 15 is:  4\n"
     ]
    }
   ],
   "source": [
    "a = 3\n",
    "N = 15\n",
    "\n",
    "p, basis = period(f, a, N)\n",
    "\n",
    "if p > 0:\n",
    "    print(\"The period of f(x) = \" + str(a)+\"^x mod + \" + str(N)+\" is: \", p)\n",
    "else:\n",
    "    print(\"No period found. Consider increasing max_period, or check that a and N are coprime.\")\n",
    "\n",
    "\n",
    "a = 7\n",
    "N = 15\n",
    "\n",
    "p, basis = period(f, a, N)\n",
    "\n",
    "if p > 0:\n",
    "    print(\"The period of f(x) = \" + str(a)+\"^x mod + \" + str(N)+\" is: \", p)\n",
    "else:\n",
    "    print(\"No period found for f(x) = \" + str(a)+\"^x mod + \" + str(N)+\" . Consider increasing max_period, or check that a and N are coprime.\")\n",
    "\n",
    "\n"
   ]
  },
  {
   "attachments": {},
   "cell_type": "markdown",
   "metadata": {},
   "source": [
    "## Shor's unitary operator"
   ]
  },
  {
   "attachments": {},
   "cell_type": "markdown",
   "metadata": {},
   "source": [
    "Let's go back to the periodic function $f(x) = 7^x \\mod 15$."
   ]
  },
  {
   "cell_type": "code",
   "execution_count": 9,
   "metadata": {},
   "outputs": [],
   "source": [
    "a = 7\n",
    "N = 15\n",
    "\n",
    "r, basis = period(f, a, N)\n",
    "\n"
   ]
  },
  {
   "attachments": {},
   "cell_type": "markdown",
   "metadata": {},
   "source": [
    "We will call the set of values of $f(x)$ evaluated at the intermediate steps of period finding as the basis."
   ]
  },
  {
   "cell_type": "code",
   "execution_count": 10,
   "metadata": {},
   "outputs": [
    {
     "name": "stdout",
     "output_type": "stream",
     "text": [
      "The basis of f(x) = 7^x mod + 15 is:  [7, 4, 13, 1]\n"
     ]
    }
   ],
   "source": [
    "print(\"The basis of f(x) = \" + str(a)+\"^x mod + \" + str(N)+\" is: \", basis)"
   ]
  },
  {
   "attachments": {},
   "cell_type": "markdown",
   "metadata": {},
   "source": [
    "Let's define the operator $U$ by\n",
    "\n",
    "$$\n",
    "U \\ket{y} = \\ket{ay\\mod N}.\n",
    "$$\n",
    "For $a=7$ and $N=15$, we can easily verify\n",
    "$$\n",
    "\\begin{aligned}\n",
    "U \\ket{1} &= \\ket {7 \\mod 15} = \\ket{7} \\\\\n",
    "U^2 \\ket{1} &= U \\ket{7}= \\ket {49 \\mod 15} = \\ket{4} \\\\\n",
    "U^3 \\ket{1} &= U \\ket{4}= \\ket {28 \\mod 15} = \\ket{13} \\\\\n",
    "U^4 \\ket{1} &= U \\ket{13}= \\ket {91 \\mod 7} = \\ket{1}\n",
    "\\end{aligned}\n",
    "$$"
   ]
  },
  {
   "attachments": {},
   "cell_type": "markdown",
   "metadata": {},
   "source": [
    "Since $U^4\\ket{1}=\\ket{1}$, $U$ is a unitary operator. Let's implement the operator $U^k$ using Qiskit. First we need to import some dependencies."
   ]
  },
  {
   "cell_type": "code",
   "execution_count": 11,
   "metadata": {},
   "outputs": [],
   "source": [
    "import matplotlib.pyplot as plt\n",
    "import numpy as np\n",
    "from qiskit import QuantumCircuit, Aer, transpile\n",
    "from qiskit.visualization import plot_histogram\n",
    "from math import gcd\n",
    "from numpy.random import randint\n",
    "import pandas as pd\n",
    "from fractions import Fraction\n"
   ]
  },
  {
   "attachments": {},
   "cell_type": "markdown",
   "metadata": {},
   "source": [
    "Let's define a quantum circuit implementing controlled-$U^k\\ket{y}$ where $U^k \\ket{y} = \\ket{a^k y \\mod 15}$. For $a=7$, this implements the transformations described above."
   ]
  },
  {
   "cell_type": "code",
   "execution_count": 12,
   "metadata": {},
   "outputs": [],
   "source": [
    "\n",
    "\n",
    "def c_amod15(a, k):\n",
    "    \"\"\"Controlled multiplication by a mod 15\n",
    "    Args:\n",
    "        a (int): the integer a that defines the multiplication fuction\n",
    "        power (int): the power of a\n",
    "    Returns:\n",
    "        Gate: the controlled unitary gate implementing a^k mod 15\n",
    "    \"\"\"\n",
    "    if a not in [2,4,7,8,11,13]:\n",
    "        raise ValueError(\"'a' must be 2,4,7,8,11 or 13\")\n",
    "    U = QuantumCircuit(4)\n",
    "    for _iteration in range(k):\n",
    "        if a in [2,13]:\n",
    "            U.swap(2,3)\n",
    "            U.swap(1,2)\n",
    "            U.swap(0,1)\n",
    "        if a in [7,8]:\n",
    "            U.swap(0,1)\n",
    "            U.swap(1,2)\n",
    "            U.swap(2,3)\n",
    "        if a in [4, 11]:\n",
    "            U.swap(1,3)\n",
    "            U.swap(0,2)\n",
    "        if a in [7,11,13]:\n",
    "            for q in range(4):\n",
    "                U.x(q)\n",
    "    U = U.to_gate()\n",
    "    U.name = f\"{a}^{k} mod 15\"\n",
    "    c_U = U.control()\n",
    "    return c_U"
   ]
  },
  {
   "attachments": {},
   "cell_type": "markdown",
   "metadata": {},
   "source": [
    "## Eigenstates of $U$"
   ]
  },
  {
   "attachments": {},
   "cell_type": "markdown",
   "metadata": {},
   "source": [
    "Let's define as $\\ket{u_0}$ the state created by symmetric superposition of these basis states.\n",
    "\n",
    "$$\\begin{aligned}\n",
    "\\ket{u_0}\n",
    "    &=\n",
    "        \\frac{1}{2} \\left (\n",
    "                \\ket{1} + \\ket{7} + \\ket{4} + \\ket{13}\n",
    "        \\right )  \\\\\n",
    "U\\ket{u_0}\n",
    "    &=\n",
    "        \\frac{1}{2} \\left (\n",
    "                U\\ket{1} + U\\ket{7} + U\\ket{4} + U\\ket{13}\n",
    "        \\right )  \\\\\n",
    "U\\ket{u_0}\n",
    "    &=\n",
    "        \\frac{1}{2} \\left (\n",
    "                \\ket{7} + \\ket{4} + \\ket{13} + \\ket{1}\n",
    "        \\right )  \\\\\n",
    "U\\ket{u_0}\n",
    "        &=\n",
    "                \\ket{u_0}\n",
    "\\end{aligned}\n",
    "$$\n",
    "$\\ket{u_0}$ is an eigenstate of operator $U$. In fact, any state $\\ket{u_s}$ defined for $s<r (=4)$ by\n",
    "\n",
    "$$\n",
    "\\ket{u_s}\n",
    "        =\n",
    "                \\frac{1}{\\sqrt{r}} \\sum_{k=0}^{r-1} \\exp{\\left (-\\frac{2 \\pi i s k}{r} \\right )} U^k\\ket{1}\n",
    "$$\n",
    "is an eigenstate of the operator $U$, i.e.,\n",
    "$$\n",
    "        U \\ket{u_s}\n",
    "                =\n",
    "                        \\exp{\\left(\\frac{2 \\pi i s}{r}\\right)} \\ket{u_s}\n",
    "$$"
   ]
  },
  {
   "attachments": {},
   "cell_type": "markdown",
   "metadata": {},
   "source": [
    "Now we face two problems. First, we need to prepare the state $\\ket{u_s}$, which requires information about $r$, the value we seek to find in the first place! However, noting that summing all $\\ket{u_s}$ states cancels out the phases to give\n",
    "\n",
    "$$\n",
    "\\ket{1}\n",
    "    =\n",
    "        \\frac{1}{\\sqrt{r}} \\sum_{k=0}^{r-1} \\ket{u_s}\n",
    "$$\n",
    "we can use the easy-to-prepare state $\\ket{1}$ as the initial target state for the algorithm. Since \n",
    "$$U \\ket{u_s}=\n",
    "                        \\exp{\\left(\\frac{2 \\pi i s}{r}\\right)} \\ket{u_s}\n",
    "$$, \n",
    "once we have an algorithm to measure the phase of $U$, we will measure a phase $\\phi = \\frac{s}{r}$ where $s$ will be a random integer between 0 and $r-1$ drawn from a uniform distribution. \n",
    "                "
   ]
  },
  {
   "attachments": {},
   "cell_type": "markdown",
   "metadata": {},
   "source": [
    "Now we introduce the quantum phase estimation algorithm to solve this problem."
   ]
  },
  {
   "attachments": {},
   "cell_type": "markdown",
   "metadata": {},
   "source": [
    "## Quantum Phase Estimation"
   ]
  },
  {
   "attachments": {},
   "cell_type": "markdown",
   "metadata": {},
   "source": [
    "[Quantum phase estimation](https://learn.qiskit.org/course/ch-algorithms/quantum-phase-estimation) (QPE) is an algorithm to estimate the phase $\\theta$ in $U\\ket{\\psi} = \\exp{(2 \\pi i \\theta)} \\ket{\\psi}$. The phase of the state $\\ket{\\psi}$ is recorded in a qubit register of $N\\_COUNT$ qubits, and the accuracy of the approximation increases with the size of the counting qubit registry. Here we outline the steps of QPE."
   ]
  },
  {
   "attachments": {},
   "cell_type": "markdown",
   "metadata": {},
   "source": [
    "Step 1 : Apply Hadamard gates to each individual qubit in the counting register to prepare a maximally entangled counting registry."
   ]
  },
  {
   "cell_type": "code",
   "execution_count": 13,
   "metadata": {},
   "outputs": [],
   "source": [
    "# Specify variables\n",
    "N_COUNT = 8  # number of counting qubits\n",
    "a = 7\n",
    "\n",
    "# Create QuantumCircuit with N_COUNT counting qubits\n",
    "# plus 4 qubits for U to act on\n",
    "qc = QuantumCircuit(N_COUNT + 4, N_COUNT)\n",
    "\n",
    "# Initialize counting qubits\n",
    "# in state |+>\n",
    "for q in range(N_COUNT):\n",
    "    qc.h(q)     # change to qc.XX(q)"
   ]
  },
  {
   "attachments": {},
   "cell_type": "markdown",
   "metadata": {},
   "source": [
    "As explained above, we prepare the target register containing $\\ket{\\psi}$ in state $\\ket{1}$. Keeping in mind qiskit's least significant bit has the lowest index, this is achieved by"
   ]
  },
  {
   "cell_type": "code",
   "execution_count": 14,
   "metadata": {},
   "outputs": [
    {
     "data": {
      "text/plain": [
       "<qiskit.circuit.instructionset.InstructionSet at 0x7fa9cb69b9a0>"
      ]
     },
     "execution_count": 14,
     "metadata": {},
     "output_type": "execute_result"
    }
   ],
   "source": [
    "qc.x(N_COUNT)"
   ]
  },
  {
   "attachments": {},
   "cell_type": "markdown",
   "metadata": {},
   "source": [
    "Step 2 : Perform a series of controlled-U operations on the target registry using the counting registry as the control. Due to a phenomena called [phase kickback](https://learn.qiskit.org/course/ch-gates/phase-kickback), the application of unitaries result in the phase $\\theta$ of $U$ being recorded in the counting registry in the Fourier basis."
   ]
  },
  {
   "cell_type": "code",
   "execution_count": 15,
   "metadata": {},
   "outputs": [],
   "source": [
    "# Do controlled-U operations\n",
    "for q in range(N_COUNT):\n",
    "    qc.append(c_amod15(a, 2**q),\n",
    "             [q] + [i+N_COUNT for i in range(4)])"
   ]
  },
  {
   "attachments": {},
   "cell_type": "markdown",
   "metadata": {},
   "source": [
    "Step 3 : Perform an [inverse quantum Fourier transform](https://learn.qiskit.org/course/ch-algorithms/quantum-fourier-transform) to recover $\\theta$."
   ]
  },
  {
   "cell_type": "code",
   "execution_count": 16,
   "metadata": {},
   "outputs": [
    {
     "data": {
      "text/plain": [
       "<qiskit.circuit.instructionset.InstructionSet at 0x7fa9b91ec1f0>"
      ]
     },
     "execution_count": 16,
     "metadata": {},
     "output_type": "execute_result"
    }
   ],
   "source": [
    "def qft_dagger(n):\n",
    "    \"\"\"n-qubit QFTdagger the first n qubits in circ\n",
    "    Args:\n",
    "        n (int): number of qubits to be transformed\n",
    "    Returns:\n",
    "        Gate: A quantum circuit implementing the inverse QFT\n",
    "    \"\"\"\n",
    "    qc = QuantumCircuit(n)\n",
    "    \n",
    "    for qubit in range(n//2):\n",
    "        qc.swap(qubit, n-qubit-1)\n",
    "    for j in range(n):\n",
    "        for m in range(j):\n",
    "            qc.cp(-np.pi/float(2**(j-m)), m, j)\n",
    "        qc.h(j)\n",
    "    qc.name = \"QFT†\"\n",
    "    return qc\n",
    "\n",
    "# Do inverse-QFT\n",
    "qc.append(qft_dagger(N_COUNT), range(N_COUNT))\n",
    "\n"
   ]
  },
  {
   "cell_type": "code",
   "execution_count": 17,
   "metadata": {},
   "outputs": [
    {
     "data": {
      "image/png": "[encoded data removed]",
      "text/plain": [
       "<Figure size 2206.58x806.68 with 1 Axes>"
      ]
     },
     "execution_count": 17,
     "metadata": {},
     "output_type": "execute_result"
    }
   ],
   "source": [
    "# Measure circuit\n",
    "qc.measure(range(N_COUNT), range(N_COUNT))\n",
    "\n",
    "# draw the circuit\n",
    "qc.draw(fold=-1)"
   ]
  },
  {
   "attachments": {},
   "cell_type": "markdown",
   "metadata": {},
   "source": [
    "We can run this circuit on a simulator..."
   ]
  },
  {
   "cell_type": "code",
   "execution_count": 18,
   "metadata": {},
   "outputs": [
    {
     "data": {
      "image/png": "[encoded data removed]",
      "text/plain": [
       "<Figure size 504x360 with 1 Axes>"
      ]
     },
     "execution_count": 18,
     "metadata": {},
     "output_type": "execute_result"
    }
   ],
   "source": [
    "aer_sim = Aer.get_backend('aer_simulator')\n",
    "t_qc = transpile(qc, aer_sim)\n",
    "counts = aer_sim.run(t_qc).result().get_counts()\n",
    "plot_histogram(counts)"
   ]
  },
  {
   "attachments": {},
   "cell_type": "markdown",
   "metadata": {},
   "source": [
    "...and convert the results to decimal."
   ]
  },
  {
   "cell_type": "code",
   "execution_count": 19,
   "metadata": {},
   "outputs": [
    {
     "name": "stdout",
     "output_type": "stream",
     "text": [
      "            Register Output           Phase\n",
      "0  00000000(bin) =   0(dec)    0/256 = 0.00\n",
      "1  01000000(bin) =  64(dec)   64/256 = 0.25\n",
      "2  10000000(bin) = 128(dec)  128/256 = 0.50\n",
      "3  11000000(bin) = 192(dec)  192/256 = 0.75\n"
     ]
    }
   ],
   "source": [
    "rows, measured_phases = [], []\n",
    "\n",
    "for output in counts:\n",
    "    decimal = int(output, 2)  # Convert (base 2) string to decimal\n",
    "    phase = decimal/(2**N_COUNT)  # Find corresponding eigenvalue\n",
    "    measured_phases.append(phase)\n",
    "    \n",
    "    # Add these values to the rows in our table:\n",
    "    rows.append([f\"{output}(bin) = {decimal:>3}(dec)\",\n",
    "                 f\"{decimal}/{2**N_COUNT} = {phase:.2f}\"])\n",
    "# Print the rows in a table\n",
    "headers=[\"Register Output\", \"Phase\"]\n",
    "df = pd.DataFrame(rows, columns=headers)\n",
    "print(df)"
   ]
  },
  {
   "attachments": {},
   "cell_type": "markdown",
   "metadata": {},
   "source": [
    "To find $r$, we need to express phase $\\phi$ as a rational number. "
   ]
  },
  {
   "cell_type": "code",
   "execution_count": 20,
   "metadata": {},
   "outputs": [
    {
     "name": "stdout",
     "output_type": "stream",
     "text": [
      "   Phase Fraction  Guess for r\n",
      "0   0.00      0/1            1\n",
      "1   0.25      1/4            4\n",
      "2   0.50      1/2            2\n",
      "3   0.75      3/4            4\n"
     ]
    }
   ],
   "source": [
    "rows = []\n",
    "for phase in measured_phases:\n",
    "    frac = Fraction(phase).limit_denominator(15)\n",
    "    rows.append([phase,\n",
    "                 f\"{frac.numerator}/{frac.denominator}\",\n",
    "                 frac.denominator])\n",
    "# Print as a table\n",
    "headers=[\"Phase\", \"Fraction\", \"Guess for r\"]\n",
    "df = pd.DataFrame(rows, columns=headers)\n",
    "print(df)"
   ]
  },
  {
   "attachments": {},
   "cell_type": "markdown",
   "metadata": {},
   "source": [
    "Shor's algorithm finds $r=4$, the correct period around $50\\%$ of the time. This is a consequence of using $\\ket{1}$ instead of $\\ket{u_s}$ to initialise the target registry, and as a consequence measuring $s=0$ or $s$ with $\\gcd(s,r) \\ne 1$. In the instances where the algorithm fails, a factor of the true period is found."
   ]
  },
  {
   "attachments": {},
   "cell_type": "markdown",
   "metadata": {},
   "source": [
    "## Factoring"
   ]
  },
  {
   "attachments": {},
   "cell_type": "markdown",
   "metadata": {},
   "source": [
    "From the solution to the period finding problem, we found $r=4$ such that $7^4 \\mod 15 = 1$. We now aim to use this information to find the factors of $N=15$.\n",
    "\n",
    "We begin by noting that $r=4$ is even. Since $r$ depends on the choice of $a$, $a$ is picked randomly until an even $r$ is found. Since $r$ is even, we can write, for some integer $x$,\n",
    "\n",
    "$$\n",
    "\\begin{aligned}\n",
    "    a^r \\mod N &=1 \\\\\n",
    "    a^r - 1 &= xN \\\\\n",
    "    (a^{r/2}-1)(a^{r/2}+1) &= xN\n",
    "\\end{aligned}\n",
    "$$\n",
    "From this factorisation, we can see that $a^{r/2} \\pm 1$ is highly likely to share a factor with $N$. Therefore, we can guess the greatest common dividers of these two integers with N to be a factor of N.\n"
   ]
  },
  {
   "cell_type": "code",
   "execution_count": 22,
   "metadata": {},
   "outputs": [
    {
     "name": "stdout",
     "output_type": "stream",
     "text": [
      "Guessed Factors: 3 and 5\n"
     ]
    }
   ],
   "source": [
    "# Guesses for factors are gcd(x^{r/2} ±1 , 15)\n",
    "guesses = [gcd(a**(r//2)-1, N), gcd(a**(r//2)+1, N)]\n",
    "print(f\"Guessed Factors: {guesses[0]} and {guesses[1]}\")"
   ]
  },
  {
   "attachments": {},
   "cell_type": "markdown",
   "metadata": {},
   "source": [
    "which indeed are the prime factors of 15."
   ]
  },
  {
   "cell_type": "code",
   "execution_count": 24,
   "metadata": {},
   "outputs": [],
   "source": [
    "# def qpe_amod15(a):\n",
    "#     \"\"\"Performs quantum phase estimation on the operation a*r mod 15.\n",
    "#     Args:\n",
    "#         a (int): This is 'a' in a*r mod 15\n",
    "#     Returns:\n",
    "#         float: Estimate of the phase\n",
    "#     \"\"\"\n",
    "#     N_COUNT = 8\n",
    "#     qc = QuantumCircuit(4+N_COUNT, N_COUNT)\n",
    "#     for q in range(N_COUNT):\n",
    "#         qc.h(q)     # Initialize counting qubits in state |+>\n",
    "#     qc.x(3+N_COUNT) # And auxiliary register in state |1>\n",
    "#     for q in range(N_COUNT): # Do controlled-U operations\n",
    "#         qc.append(c_amod15(a, 2**q),\n",
    "#                  [q] + [i+N_COUNT for i in range(4)])\n",
    "#     qc.append(qft_dagger(N_COUNT), range(N_COUNT)) # Do inverse-QFT\n",
    "#     qc.measure(range(N_COUNT), range(N_COUNT))\n",
    "#     # Simulate Results\n",
    "#     aer_sim = Aer.get_backend('aer_simulator')\n",
    "#     # `memory=True` tells the backend to save each measurement in a list\n",
    "#     job = aer_sim.run(transpile(qc, aer_sim), shots=1, memory=True)\n",
    "#     readings = job.result().get_memory()\n",
    "#     print(\"Register Reading: \" + readings[0])\n",
    "#     phase = int(readings[0],2)/(2**N_COUNT)\n",
    "#     print(f\"Corresponding Phase: {phase}\")\n",
    "#     return phase"
   ]
  },
  {
   "cell_type": "code",
   "execution_count": 36,
   "metadata": {},
   "outputs": [
    {
     "name": "stdout",
     "output_type": "stream",
     "text": [
      "\n",
      "ATTEMPT 1:\n",
      "Register Reading: 10000000\n",
      "Corresponding Phase: 0.5\n",
      "Result: r = 2\n",
      "Guessed Factors: 3 and 1\n",
      "*** Non-trivial factor found: 3 ***\n"
     ]
    }
   ],
   "source": [
    "# a = 7\n",
    "# FACTOR_FOUND = False\n",
    "# ATTEMPT = 0\n",
    "# while not FACTOR_FOUND:\n",
    "#     ATTEMPT += 1\n",
    "#     print(f\"\\nATTEMPT {ATTEMPT}:\")\n",
    "#     phase = qpe_amod15(a) # Phase = s/r\n",
    "#     frac = Fraction(phase).limit_denominator(N)\n",
    "#     r = frac.denominator\n",
    "#     print(f\"Result: r = {r}\")\n",
    "#     if phase != 0:\n",
    "#         # Guesses for factors are gcd(x^{r/2} ±1 , 15)\n",
    "#         guesses = [gcd(a**(r//2)-1, N), gcd(a**(r//2)+1, N)]\n",
    "#         print(f\"Guessed Factors: {guesses[0]} and {guesses[1]}\")\n",
    "#         for guess in guesses:\n",
    "#             if guess not in [1,N] and (N % guess) == 0:\n",
    "#                 # Guess is a factor!\n",
    "#                 print(\"*** Non-trivial factor found: \" + str(guess)+ \" ***\")\n",
    "#                 FACTOR_FOUND = True"
   ]
  },
  {
   "attachments": {},
   "cell_type": "markdown",
   "metadata": {},
   "source": [
    "## Further reading\n",
    "\n",
    "1. [Story of Shor's algorithm](https://www.youtube.com/watch?v=6qD9XElTpCE&t=130s)\n",
    "2. [Qiskit tutorial on QPE]()\n",
    "3. [Qiskit tutorial on Shor's algorithm](https://learn.qiskit.org/course/ch-algorithms/shors-algorithm)"
   ]
  }
 ],
 "metadata": {
  "kernelspec": {
   "display_name": ".venv",
   "language": "python",
   "name": "python3"
  },
  "language_info": {
   "codemirror_mode": {
    "name": "ipython",
    "version": 3
   },
   "file_extension": ".py",
   "mimetype": "text/x-python",
   "name": "python",
   "nbconvert_exporter": "python",
   "pygments_lexer": "ipython3",
   "version": "3.10.10"
  },
  "orig_nbformat": 4
 },
 "nbformat": 4,
 "nbformat_minor": 2
}
